{
 "cells": [
  {
   "cell_type": "code",
   "execution_count": 72,
   "metadata": {
    "collapsed": false
   },
   "outputs": [
    {
     "data": {
      "text/html": [
       "<style>.container { width:100% !important; }</style>"
      ],
      "text/plain": [
       "<IPython.core.display.HTML object>"
      ]
     },
     "metadata": {},
     "output_type": "display_data"
    }
   ],
   "source": [
    "# DATS 6101 Group Project 1\n",
    "# Hilary Ligon, Nahid Albakri, Jason Dutton\n",
    "# descriptive and exploratory statistics using 'deadly quarrels' data\n",
    "\n",
    "%matplotlib inline\n",
    "import warnings\n",
    "warnings.filterwarnings('ignore')\n",
    "import pandas as pd\n",
    "import numpy as np\n",
    "# Changes the width displayable on the screen, so we can see all the columns of the tables.\n",
    "from IPython.core.display import display, HTML\n",
    "display(HTML(\"<style>.container { width:100% !important; }</style>\"))\n",
    "\n",
    "# load dataset\n",
    "url = 'https://vincentarelbundock.github.io/Rdatasets/csv/HistData/Quarrels.csv'\n",
    "df_quarrels = pd.read_csv(url)\n",
    "\n",
    "# only select relevant columns\n",
    "df_Q = df_quarrels[['revolution','months','deaths','logDeaths','prevConflict','prevConflictYrs','chronicFighting','difWealth','difLanguage','intermingled','sameGov','sameGovYrs']]\n",
    "df_Quarrels = df_Q[df_Q.revolution == 1]\n",
    "\n",
    "# to export to Excel (optional)\n",
    "df_Quarrels.to_excel('/Users/jason/Desktop/Quarrels.xlsx', \n",
    "                    sheet_name='Sheet 1', na_rep=\"\", header=['revolution','months','deaths','logDeaths','prevConflict','prevConflictYrs','chronicFighting','difWealth','difLanguage','intermingled','sameGov','sameGovYrs'])"
   ]
  },
  {
   "cell_type": "markdown",
   "metadata": {},
   "source": [
    "# Introduction\n",
    "\n",
    "For our presentation, we took a look at the data set on Deadly Quarrels. We wanted to look at the relationships associated with civil wars. We started off looking at eight different variables. Those variables we looked at are described here: \n",
    "* prevConflict, looking at if there a previous conflict, \n",
    "* prevConflictYrs, how long hte conflict lasted if there was one, \n",
    "* chronicFighting, whether or not there was chronic fighting between the sides, \n",
    "* difWealth, whether or not there was a difference in wealth between the sides, \n",
    "* difLanguage, whether or not there were different languages on the opposing sides, \n",
    "* intermingled, which looks at whether the two sides were intermingled in the same territory, \n",
    "* sameGov, whether or not the sides shared the same government, and \n",
    "* sameGovYrs, the number of years since the common government was created.\n",
    "\n",
    "There were also 4 variables that gave us a bit more contextual information on the civil wars: \n",
    "* revolution, which describes whether or not it is a civil war, \n",
    "* months, giving us the length of time the conflict lasted, \n",
    "* deaths, the number of recorded deaths, and \n",
    "* logDeaths, the number of recorded deaths on a log scale.\n",
    "\n",
    "Much of this data is categorical, returning either a 0 for no or a yes for 1.\n",
    "Now, for the descriptive statistics:"
   ]
  },
  {
   "cell_type": "code",
   "execution_count": 2,
   "metadata": {
    "collapsed": false,
    "scrolled": false
   },
   "outputs": [
    {
     "data": {
      "text/html": [
       "<div>\n",
       "<table border=\"1\" class=\"dataframe\">\n",
       "  <thead>\n",
       "    <tr style=\"text-align: right;\">\n",
       "      <th></th>\n",
       "      <th>revolution</th>\n",
       "      <th>months</th>\n",
       "      <th>deaths</th>\n",
       "      <th>logDeaths</th>\n",
       "      <th>prevConflict</th>\n",
       "      <th>prevConflictYrs</th>\n",
       "      <th>chronicFighting</th>\n",
       "      <th>difWealth</th>\n",
       "      <th>difLanguage</th>\n",
       "      <th>intermingled</th>\n",
       "      <th>sameGov</th>\n",
       "      <th>sameGovYrs</th>\n",
       "    </tr>\n",
       "  </thead>\n",
       "  <tbody>\n",
       "    <tr>\n",
       "      <th>count</th>\n",
       "      <td>109.0</td>\n",
       "      <td>109.000000</td>\n",
       "      <td>1.090000e+02</td>\n",
       "      <td>109.000000</td>\n",
       "      <td>109.000000</td>\n",
       "      <td>109.000000</td>\n",
       "      <td>109.000000</td>\n",
       "      <td>109.000000</td>\n",
       "      <td>109.000000</td>\n",
       "      <td>109.000000</td>\n",
       "      <td>109.000000</td>\n",
       "      <td>109.000000</td>\n",
       "    </tr>\n",
       "    <tr>\n",
       "      <th>mean</th>\n",
       "      <td>1.0</td>\n",
       "      <td>20.339450</td>\n",
       "      <td>7.481770e+05</td>\n",
       "      <td>3.850092</td>\n",
       "      <td>0.321101</td>\n",
       "      <td>4.972477</td>\n",
       "      <td>0.036697</td>\n",
       "      <td>0.128440</td>\n",
       "      <td>0.220183</td>\n",
       "      <td>0.174312</td>\n",
       "      <td>0.724771</td>\n",
       "      <td>19.330275</td>\n",
       "    </tr>\n",
       "    <tr>\n",
       "      <th>std</th>\n",
       "      <td>0.0</td>\n",
       "      <td>30.257298</td>\n",
       "      <td>3.409773e+06</td>\n",
       "      <td>1.132336</td>\n",
       "      <td>0.469056</td>\n",
       "      <td>12.516995</td>\n",
       "      <td>0.188886</td>\n",
       "      <td>0.336125</td>\n",
       "      <td>0.416284</td>\n",
       "      <td>0.381130</td>\n",
       "      <td>0.448693</td>\n",
       "      <td>51.041388</td>\n",
       "    </tr>\n",
       "    <tr>\n",
       "      <th>min</th>\n",
       "      <td>1.0</td>\n",
       "      <td>1.000000</td>\n",
       "      <td>0.000000e+00</td>\n",
       "      <td>2.600000</td>\n",
       "      <td>0.000000</td>\n",
       "      <td>0.000000</td>\n",
       "      <td>0.000000</td>\n",
       "      <td>0.000000</td>\n",
       "      <td>0.000000</td>\n",
       "      <td>0.000000</td>\n",
       "      <td>0.000000</td>\n",
       "      <td>0.000000</td>\n",
       "    </tr>\n",
       "    <tr>\n",
       "      <th>25%</th>\n",
       "      <td>1.0</td>\n",
       "      <td>3.000000</td>\n",
       "      <td>1.000000e+03</td>\n",
       "      <td>3.000000</td>\n",
       "      <td>0.000000</td>\n",
       "      <td>0.000000</td>\n",
       "      <td>0.000000</td>\n",
       "      <td>0.000000</td>\n",
       "      <td>0.000000</td>\n",
       "      <td>0.000000</td>\n",
       "      <td>0.000000</td>\n",
       "      <td>0.000000</td>\n",
       "    </tr>\n",
       "    <tr>\n",
       "      <th>50%</th>\n",
       "      <td>1.0</td>\n",
       "      <td>8.000000</td>\n",
       "      <td>2.000000e+03</td>\n",
       "      <td>3.300000</td>\n",
       "      <td>0.000000</td>\n",
       "      <td>0.000000</td>\n",
       "      <td>0.000000</td>\n",
       "      <td>0.000000</td>\n",
       "      <td>0.000000</td>\n",
       "      <td>0.000000</td>\n",
       "      <td>1.000000</td>\n",
       "      <td>0.000000</td>\n",
       "    </tr>\n",
       "    <tr>\n",
       "      <th>75%</th>\n",
       "      <td>1.0</td>\n",
       "      <td>28.000000</td>\n",
       "      <td>2.000000e+04</td>\n",
       "      <td>4.300000</td>\n",
       "      <td>1.000000</td>\n",
       "      <td>3.000000</td>\n",
       "      <td>0.000000</td>\n",
       "      <td>0.000000</td>\n",
       "      <td>0.000000</td>\n",
       "      <td>0.000000</td>\n",
       "      <td>1.000000</td>\n",
       "      <td>11.000000</td>\n",
       "    </tr>\n",
       "    <tr>\n",
       "      <th>max</th>\n",
       "      <td>1.0</td>\n",
       "      <td>156.000000</td>\n",
       "      <td>2.000000e+07</td>\n",
       "      <td>7.300000</td>\n",
       "      <td>1.000000</td>\n",
       "      <td>63.000000</td>\n",
       "      <td>1.000000</td>\n",
       "      <td>1.000000</td>\n",
       "      <td>1.000000</td>\n",
       "      <td>1.000000</td>\n",
       "      <td>1.000000</td>\n",
       "      <td>266.000000</td>\n",
       "    </tr>\n",
       "  </tbody>\n",
       "</table>\n",
       "</div>"
      ],
      "text/plain": [
       "       revolution      months        deaths   logDeaths  prevConflict  \\\n",
       "count       109.0  109.000000  1.090000e+02  109.000000    109.000000   \n",
       "mean          1.0   20.339450  7.481770e+05    3.850092      0.321101   \n",
       "std           0.0   30.257298  3.409773e+06    1.132336      0.469056   \n",
       "min           1.0    1.000000  0.000000e+00    2.600000      0.000000   \n",
       "25%           1.0    3.000000  1.000000e+03    3.000000      0.000000   \n",
       "50%           1.0    8.000000  2.000000e+03    3.300000      0.000000   \n",
       "75%           1.0   28.000000  2.000000e+04    4.300000      1.000000   \n",
       "max           1.0  156.000000  2.000000e+07    7.300000      1.000000   \n",
       "\n",
       "       prevConflictYrs  chronicFighting   difWealth  difLanguage  \\\n",
       "count       109.000000       109.000000  109.000000   109.000000   \n",
       "mean          4.972477         0.036697    0.128440     0.220183   \n",
       "std          12.516995         0.188886    0.336125     0.416284   \n",
       "min           0.000000         0.000000    0.000000     0.000000   \n",
       "25%           0.000000         0.000000    0.000000     0.000000   \n",
       "50%           0.000000         0.000000    0.000000     0.000000   \n",
       "75%           3.000000         0.000000    0.000000     0.000000   \n",
       "max          63.000000         1.000000    1.000000     1.000000   \n",
       "\n",
       "       intermingled     sameGov  sameGovYrs  \n",
       "count    109.000000  109.000000  109.000000  \n",
       "mean       0.174312    0.724771   19.330275  \n",
       "std        0.381130    0.448693   51.041388  \n",
       "min        0.000000    0.000000    0.000000  \n",
       "25%        0.000000    0.000000    0.000000  \n",
       "50%        0.000000    1.000000    0.000000  \n",
       "75%        0.000000    1.000000   11.000000  \n",
       "max        1.000000    1.000000  266.000000  "
      ]
     },
     "execution_count": 2,
     "metadata": {},
     "output_type": "execute_result"
    }
   ],
   "source": [
    "# explore variables\n",
    "df_Quarrels.shape  # number of observations and variables\n",
    "df_Quarrels.size\n",
    "df_Quarrels.head(5)\n",
    "df_Quarrels.dtypes\n",
    "# summary statistics\n",
    "df_Quarrels.describe()  \n",
    "# Data cleaning was required in a few sections, needing to replace 999 with 0.\n",
    "df_Quarrels['prevConflictYrs'].replace(999, 0, inplace=True)\n",
    "df_Quarrels['sameGovYrs'].replace(999, 0, inplace=True)\n",
    "# to see cleaned prevConflictYrs\n",
    "df_Quarrels.describe() "
   ]
  },
  {
   "cell_type": "markdown",
   "metadata": {},
   "source": [
    "# Statistics\n",
    "Due to the nature of the categorical nature of the data, the mode can be extrapolated from looking at the median value. For some of the data, such as prevConflict Yrs and sameGov years\n",
    "\n",
    "For prevConflict we have that the \n",
    "- mean is 0.32, \n",
    "- median is 0, and \n",
    "- mode is 0.\n",
    "\n",
    "For prevConflictYrs we have that the \n",
    "- mean is 4.97, \n",
    "- median is 0, and \n",
    "- mode is 0.\n",
    "\n",
    "For chronicFighting we have that the \n",
    "- mean is 0.04, \n",
    "- median is 0, and \n",
    "- mode is 0.\n",
    "\n",
    "For difWealth we have that the \n",
    "- mean is 0.13, \n",
    "- median is 0, and \n",
    "- mode is 0.\n",
    "\n",
    "For difLanguage we have that the \n",
    "- mean is 0.22, \n",
    "- median is 0, and \n",
    "- mode is 0.\n",
    "\n",
    "For intermingled we have that the \n",
    "- mean is 0.17, \n",
    "- median is 0, and \n",
    "- mode is 0.\n",
    "\n",
    "For sameGov we have that the \n",
    "- mean is 0.72, \n",
    "- median is 1, and \n",
    "- mode is 1.\n",
    "\n",
    "For sameGovYrs we have that the \n",
    "- mean is 19.33, \n",
    "- median is 0, and \n",
    "- mode is 0.\n",
    "\n",
    "From here we move on to look at the standard deviation, variance, correlation, and covariance. Unfortunately, due to the categorical nature of the data the information gained from this isn't very helpful."
   ]
  },
  {
   "cell_type": "code",
   "execution_count": 3,
   "metadata": {
    "collapsed": false
   },
   "outputs": [
    {
     "data": {
      "text/plain": [
       "revolution         0.000000e+00\n",
       "months             3.025730e+01\n",
       "deaths             3.409773e+06\n",
       "logDeaths          1.132336e+00\n",
       "prevConflict       4.690561e-01\n",
       "prevConflictYrs    1.251699e+01\n",
       "chronicFighting    1.888859e-01\n",
       "difWealth          3.361249e-01\n",
       "difLanguage        4.162842e-01\n",
       "intermingled       3.811298e-01\n",
       "sameGov            4.486927e-01\n",
       "sameGovYrs         5.104139e+01\n",
       "dtype: float64"
      ]
     },
     "execution_count": 3,
     "metadata": {},
     "output_type": "execute_result"
    }
   ],
   "source": [
    "df_Quarrels.std()"
   ]
  },
  {
   "cell_type": "code",
   "execution_count": 4,
   "metadata": {
    "collapsed": false
   },
   "outputs": [
    {
     "data": {
      "text/plain": [
       "revolution         0.000000e+00\n",
       "months             9.155041e+02\n",
       "deaths             1.162655e+13\n",
       "logDeaths          1.282184e+00\n",
       "prevConflict       2.200136e-01\n",
       "prevConflictYrs    1.566752e+02\n",
       "chronicFighting    3.567788e-02\n",
       "difWealth          1.129800e-01\n",
       "difLanguage        1.732926e-01\n",
       "intermingled       1.452599e-01\n",
       "sameGov            2.013252e-01\n",
       "sameGovYrs         2.605223e+03\n",
       "dtype: float64"
      ]
     },
     "execution_count": 4,
     "metadata": {},
     "output_type": "execute_result"
    }
   ],
   "source": [
    "df_Quarrels.var()"
   ]
  },
  {
   "cell_type": "code",
   "execution_count": 5,
   "metadata": {
    "collapsed": false,
    "scrolled": false
   },
   "outputs": [
    {
     "data": {
      "text/html": [
       "<div>\n",
       "<table border=\"1\" class=\"dataframe\">\n",
       "  <thead>\n",
       "    <tr style=\"text-align: right;\">\n",
       "      <th></th>\n",
       "      <th>revolution</th>\n",
       "      <th>months</th>\n",
       "      <th>deaths</th>\n",
       "      <th>logDeaths</th>\n",
       "      <th>prevConflict</th>\n",
       "      <th>prevConflictYrs</th>\n",
       "      <th>chronicFighting</th>\n",
       "      <th>difWealth</th>\n",
       "      <th>difLanguage</th>\n",
       "      <th>intermingled</th>\n",
       "      <th>sameGov</th>\n",
       "      <th>sameGovYrs</th>\n",
       "    </tr>\n",
       "  </thead>\n",
       "  <tbody>\n",
       "    <tr>\n",
       "      <th>revolution</th>\n",
       "      <td>NaN</td>\n",
       "      <td>NaN</td>\n",
       "      <td>NaN</td>\n",
       "      <td>NaN</td>\n",
       "      <td>NaN</td>\n",
       "      <td>NaN</td>\n",
       "      <td>NaN</td>\n",
       "      <td>NaN</td>\n",
       "      <td>NaN</td>\n",
       "      <td>NaN</td>\n",
       "      <td>NaN</td>\n",
       "      <td>NaN</td>\n",
       "    </tr>\n",
       "    <tr>\n",
       "      <th>months</th>\n",
       "      <td>NaN</td>\n",
       "      <td>1.000000</td>\n",
       "      <td>0.241536</td>\n",
       "      <td>0.360776</td>\n",
       "      <td>0.022260</td>\n",
       "      <td>0.065081</td>\n",
       "      <td>0.044784</td>\n",
       "      <td>0.017524</td>\n",
       "      <td>0.099868</td>\n",
       "      <td>0.193946</td>\n",
       "      <td>-0.038068</td>\n",
       "      <td>0.148147</td>\n",
       "    </tr>\n",
       "    <tr>\n",
       "      <th>deaths</th>\n",
       "      <td>NaN</td>\n",
       "      <td>0.241536</td>\n",
       "      <td>1.000000</td>\n",
       "      <td>0.633344</td>\n",
       "      <td>-0.050197</td>\n",
       "      <td>-0.062660</td>\n",
       "      <td>-0.013314</td>\n",
       "      <td>-0.045414</td>\n",
       "      <td>0.099862</td>\n",
       "      <td>0.331854</td>\n",
       "      <td>0.103139</td>\n",
       "      <td>0.301933</td>\n",
       "    </tr>\n",
       "    <tr>\n",
       "      <th>logDeaths</th>\n",
       "      <td>NaN</td>\n",
       "      <td>0.360776</td>\n",
       "      <td>0.633344</td>\n",
       "      <td>1.000000</td>\n",
       "      <td>0.107332</td>\n",
       "      <td>0.082987</td>\n",
       "      <td>0.136352</td>\n",
       "      <td>0.110660</td>\n",
       "      <td>0.229389</td>\n",
       "      <td>0.374352</td>\n",
       "      <td>-0.162693</td>\n",
       "      <td>0.299527</td>\n",
       "    </tr>\n",
       "    <tr>\n",
       "      <th>prevConflict</th>\n",
       "      <td>NaN</td>\n",
       "      <td>0.022260</td>\n",
       "      <td>-0.050197</td>\n",
       "      <td>0.107332</td>\n",
       "      <td>1.000000</td>\n",
       "      <td>0.580304</td>\n",
       "      <td>0.179295</td>\n",
       "      <td>0.029634</td>\n",
       "      <td>0.345861</td>\n",
       "      <td>0.098361</td>\n",
       "      <td>0.027850</td>\n",
       "      <td>-0.141380</td>\n",
       "    </tr>\n",
       "    <tr>\n",
       "      <th>prevConflictYrs</th>\n",
       "      <td>NaN</td>\n",
       "      <td>0.065081</td>\n",
       "      <td>-0.062660</td>\n",
       "      <td>0.082987</td>\n",
       "      <td>0.580304</td>\n",
       "      <td>1.000000</td>\n",
       "      <td>0.145334</td>\n",
       "      <td>-0.040967</td>\n",
       "      <td>0.329918</td>\n",
       "      <td>-0.006749</td>\n",
       "      <td>0.008531</td>\n",
       "      <td>0.019609</td>\n",
       "    </tr>\n",
       "    <tr>\n",
       "      <th>chronicFighting</th>\n",
       "      <td>NaN</td>\n",
       "      <td>0.044784</td>\n",
       "      <td>-0.013314</td>\n",
       "      <td>0.136352</td>\n",
       "      <td>0.179295</td>\n",
       "      <td>0.145334</td>\n",
       "      <td>1.000000</td>\n",
       "      <td>0.216753</td>\n",
       "      <td>-0.103713</td>\n",
       "      <td>0.038940</td>\n",
       "      <td>-0.207478</td>\n",
       "      <td>-0.074260</td>\n",
       "    </tr>\n",
       "    <tr>\n",
       "      <th>difWealth</th>\n",
       "      <td>NaN</td>\n",
       "      <td>0.017524</td>\n",
       "      <td>-0.045414</td>\n",
       "      <td>0.110660</td>\n",
       "      <td>0.029634</td>\n",
       "      <td>-0.040967</td>\n",
       "      <td>0.216753</td>\n",
       "      <td>1.000000</td>\n",
       "      <td>-0.137811</td>\n",
       "      <td>0.401836</td>\n",
       "      <td>0.052382</td>\n",
       "      <td>-0.001416</td>\n",
       "    </tr>\n",
       "    <tr>\n",
       "      <th>difLanguage</th>\n",
       "      <td>NaN</td>\n",
       "      <td>0.099868</td>\n",
       "      <td>0.099862</td>\n",
       "      <td>0.229389</td>\n",
       "      <td>0.345861</td>\n",
       "      <td>0.329918</td>\n",
       "      <td>-0.103713</td>\n",
       "      <td>-0.137811</td>\n",
       "      <td>1.000000</td>\n",
       "      <td>-0.185787</td>\n",
       "      <td>-0.069128</td>\n",
       "      <td>0.102004</td>\n",
       "    </tr>\n",
       "    <tr>\n",
       "      <th>intermingled</th>\n",
       "      <td>NaN</td>\n",
       "      <td>0.193946</td>\n",
       "      <td>0.331854</td>\n",
       "      <td>0.374352</td>\n",
       "      <td>0.098361</td>\n",
       "      <td>-0.006749</td>\n",
       "      <td>0.038940</td>\n",
       "      <td>0.401836</td>\n",
       "      <td>-0.185787</td>\n",
       "      <td>1.000000</td>\n",
       "      <td>0.174852</td>\n",
       "      <td>0.175978</td>\n",
       "    </tr>\n",
       "    <tr>\n",
       "      <th>sameGov</th>\n",
       "      <td>NaN</td>\n",
       "      <td>-0.038068</td>\n",
       "      <td>0.103139</td>\n",
       "      <td>-0.162693</td>\n",
       "      <td>0.027850</td>\n",
       "      <td>0.008531</td>\n",
       "      <td>-0.207478</td>\n",
       "      <td>0.052382</td>\n",
       "      <td>-0.069128</td>\n",
       "      <td>0.174852</td>\n",
       "      <td>1.000000</td>\n",
       "      <td>0.234457</td>\n",
       "    </tr>\n",
       "    <tr>\n",
       "      <th>sameGovYrs</th>\n",
       "      <td>NaN</td>\n",
       "      <td>0.148147</td>\n",
       "      <td>0.301933</td>\n",
       "      <td>0.299527</td>\n",
       "      <td>-0.141380</td>\n",
       "      <td>0.019609</td>\n",
       "      <td>-0.074260</td>\n",
       "      <td>-0.001416</td>\n",
       "      <td>0.102004</td>\n",
       "      <td>0.175978</td>\n",
       "      <td>0.234457</td>\n",
       "      <td>1.000000</td>\n",
       "    </tr>\n",
       "  </tbody>\n",
       "</table>\n",
       "</div>"
      ],
      "text/plain": [
       "                 revolution    months    deaths  logDeaths  prevConflict  \\\n",
       "revolution              NaN       NaN       NaN        NaN           NaN   \n",
       "months                  NaN  1.000000  0.241536   0.360776      0.022260   \n",
       "deaths                  NaN  0.241536  1.000000   0.633344     -0.050197   \n",
       "logDeaths               NaN  0.360776  0.633344   1.000000      0.107332   \n",
       "prevConflict            NaN  0.022260 -0.050197   0.107332      1.000000   \n",
       "prevConflictYrs         NaN  0.065081 -0.062660   0.082987      0.580304   \n",
       "chronicFighting         NaN  0.044784 -0.013314   0.136352      0.179295   \n",
       "difWealth               NaN  0.017524 -0.045414   0.110660      0.029634   \n",
       "difLanguage             NaN  0.099868  0.099862   0.229389      0.345861   \n",
       "intermingled            NaN  0.193946  0.331854   0.374352      0.098361   \n",
       "sameGov                 NaN -0.038068  0.103139  -0.162693      0.027850   \n",
       "sameGovYrs              NaN  0.148147  0.301933   0.299527     -0.141380   \n",
       "\n",
       "                 prevConflictYrs  chronicFighting  difWealth  difLanguage  \\\n",
       "revolution                   NaN              NaN        NaN          NaN   \n",
       "months                  0.065081         0.044784   0.017524     0.099868   \n",
       "deaths                 -0.062660        -0.013314  -0.045414     0.099862   \n",
       "logDeaths               0.082987         0.136352   0.110660     0.229389   \n",
       "prevConflict            0.580304         0.179295   0.029634     0.345861   \n",
       "prevConflictYrs         1.000000         0.145334  -0.040967     0.329918   \n",
       "chronicFighting         0.145334         1.000000   0.216753    -0.103713   \n",
       "difWealth              -0.040967         0.216753   1.000000    -0.137811   \n",
       "difLanguage             0.329918        -0.103713  -0.137811     1.000000   \n",
       "intermingled           -0.006749         0.038940   0.401836    -0.185787   \n",
       "sameGov                 0.008531        -0.207478   0.052382    -0.069128   \n",
       "sameGovYrs              0.019609        -0.074260  -0.001416     0.102004   \n",
       "\n",
       "                 intermingled   sameGov  sameGovYrs  \n",
       "revolution                NaN       NaN         NaN  \n",
       "months               0.193946 -0.038068    0.148147  \n",
       "deaths               0.331854  0.103139    0.301933  \n",
       "logDeaths            0.374352 -0.162693    0.299527  \n",
       "prevConflict         0.098361  0.027850   -0.141380  \n",
       "prevConflictYrs     -0.006749  0.008531    0.019609  \n",
       "chronicFighting      0.038940 -0.207478   -0.074260  \n",
       "difWealth            0.401836  0.052382   -0.001416  \n",
       "difLanguage         -0.185787 -0.069128    0.102004  \n",
       "intermingled         1.000000  0.174852    0.175978  \n",
       "sameGov              0.174852  1.000000    0.234457  \n",
       "sameGovYrs           0.175978  0.234457    1.000000  "
      ]
     },
     "execution_count": 5,
     "metadata": {},
     "output_type": "execute_result"
    }
   ],
   "source": [
    "df_Quarrels.corr()"
   ]
  },
  {
   "cell_type": "markdown",
   "metadata": {},
   "source": [
    "As you can see above, there isn't much of a strong correlation going on here.  There are a few that have notable R values higher than 0.5, but much those are **deaths**/**logDeath** and **prevConflict**/**prevConflictYrs** which trivial and don't tell use much about the conflicts.  The highest correlation value of 0.40 is between **difWealth** and **intermingled**, but it is a moderately weak positive linear correlation."
   ]
  },
  {
   "cell_type": "code",
   "execution_count": 6,
   "metadata": {
    "collapsed": false
   },
   "outputs": [
    {
     "data": {
      "text/html": [
       "<div>\n",
       "<table border=\"1\" class=\"dataframe\">\n",
       "  <thead>\n",
       "    <tr style=\"text-align: right;\">\n",
       "      <th></th>\n",
       "      <th>revolution</th>\n",
       "      <th>months</th>\n",
       "      <th>deaths</th>\n",
       "      <th>logDeaths</th>\n",
       "      <th>prevConflict</th>\n",
       "      <th>prevConflictYrs</th>\n",
       "      <th>chronicFighting</th>\n",
       "      <th>difWealth</th>\n",
       "      <th>difLanguage</th>\n",
       "      <th>intermingled</th>\n",
       "      <th>sameGov</th>\n",
       "      <th>sameGovYrs</th>\n",
       "    </tr>\n",
       "  </thead>\n",
       "  <tbody>\n",
       "    <tr>\n",
       "      <th>revolution</th>\n",
       "      <td>0.0</td>\n",
       "      <td>0.000000e+00</td>\n",
       "      <td>0.000000e+00</td>\n",
       "      <td>0.000000e+00</td>\n",
       "      <td>0.000000</td>\n",
       "      <td>0.000000e+00</td>\n",
       "      <td>0.000000</td>\n",
       "      <td>0.000000</td>\n",
       "      <td>0.000000</td>\n",
       "      <td>0.000000</td>\n",
       "      <td>0.000000</td>\n",
       "      <td>0.000000e+00</td>\n",
       "    </tr>\n",
       "    <tr>\n",
       "      <th>months</th>\n",
       "      <td>0.0</td>\n",
       "      <td>9.155041e+02</td>\n",
       "      <td>2.491939e+07</td>\n",
       "      <td>1.236071e+01</td>\n",
       "      <td>0.315919</td>\n",
       "      <td>2.464832e+01</td>\n",
       "      <td>0.255946</td>\n",
       "      <td>0.178220</td>\n",
       "      <td>1.257900</td>\n",
       "      <td>2.236578</td>\n",
       "      <td>-0.516820</td>\n",
       "      <td>2.287943e+02</td>\n",
       "    </tr>\n",
       "    <tr>\n",
       "      <th>deaths</th>\n",
       "      <td>0.0</td>\n",
       "      <td>2.491939e+07</td>\n",
       "      <td>1.162655e+13</td>\n",
       "      <td>2.445346e+06</td>\n",
       "      <td>-80284.110771</td>\n",
       "      <td>-2.674318e+06</td>\n",
       "      <td>-8575.075093</td>\n",
       "      <td>-52049.938753</td>\n",
       "      <td>141748.262402</td>\n",
       "      <td>431266.143306</td>\n",
       "      <td>157796.942830</td>\n",
       "      <td>5.254832e+07</td>\n",
       "    </tr>\n",
       "    <tr>\n",
       "      <th>logDeaths</th>\n",
       "      <td>0.0</td>\n",
       "      <td>1.236071e+01</td>\n",
       "      <td>2.445346e+06</td>\n",
       "      <td>1.282184e+00</td>\n",
       "      <td>0.057007</td>\n",
       "      <td>1.176206e+00</td>\n",
       "      <td>0.029163</td>\n",
       "      <td>0.042118</td>\n",
       "      <td>0.108128</td>\n",
       "      <td>0.161558</td>\n",
       "      <td>-0.082660</td>\n",
       "      <td>1.731145e+01</td>\n",
       "    </tr>\n",
       "    <tr>\n",
       "      <th>prevConflict</th>\n",
       "      <td>0.0</td>\n",
       "      <td>3.159191e-01</td>\n",
       "      <td>-8.028411e+04</td>\n",
       "      <td>5.700731e-02</td>\n",
       "      <td>0.220014</td>\n",
       "      <td>3.407068e+00</td>\n",
       "      <td>0.015885</td>\n",
       "      <td>0.004672</td>\n",
       "      <td>0.067533</td>\n",
       "      <td>0.017584</td>\n",
       "      <td>0.005861</td>\n",
       "      <td>-3.384811e+00</td>\n",
       "    </tr>\n",
       "    <tr>\n",
       "      <th>prevConflictYrs</th>\n",
       "      <td>0.0</td>\n",
       "      <td>2.464832e+01</td>\n",
       "      <td>-2.674318e+06</td>\n",
       "      <td>1.176206e+00</td>\n",
       "      <td>3.407068</td>\n",
       "      <td>1.566752e+02</td>\n",
       "      <td>0.343612</td>\n",
       "      <td>-0.172358</td>\n",
       "      <td>1.719079</td>\n",
       "      <td>-0.032195</td>\n",
       "      <td>0.047910</td>\n",
       "      <td>1.252769e+01</td>\n",
       "    </tr>\n",
       "    <tr>\n",
       "      <th>chronicFighting</th>\n",
       "      <td>0.0</td>\n",
       "      <td>2.559463e-01</td>\n",
       "      <td>-8.575075e+03</td>\n",
       "      <td>2.916327e-02</td>\n",
       "      <td>0.015885</td>\n",
       "      <td>3.436120e-01</td>\n",
       "      <td>0.035678</td>\n",
       "      <td>0.013761</td>\n",
       "      <td>-0.008155</td>\n",
       "      <td>0.002803</td>\n",
       "      <td>-0.017584</td>\n",
       "      <td>-7.159361e-01</td>\n",
       "    </tr>\n",
       "    <tr>\n",
       "      <th>difWealth</th>\n",
       "      <td>0.0</td>\n",
       "      <td>1.782195e-01</td>\n",
       "      <td>-5.204994e+04</td>\n",
       "      <td>4.211774e-02</td>\n",
       "      <td>0.004672</td>\n",
       "      <td>-1.723581e-01</td>\n",
       "      <td>0.013761</td>\n",
       "      <td>0.112980</td>\n",
       "      <td>-0.019283</td>\n",
       "      <td>0.051478</td>\n",
       "      <td>0.007900</td>\n",
       "      <td>-2.429494e-02</td>\n",
       "    </tr>\n",
       "    <tr>\n",
       "      <th>difLanguage</th>\n",
       "      <td>0.0</td>\n",
       "      <td>1.257900e+00</td>\n",
       "      <td>1.417483e+05</td>\n",
       "      <td>1.081278e-01</td>\n",
       "      <td>0.067533</td>\n",
       "      <td>1.719079e+00</td>\n",
       "      <td>-0.008155</td>\n",
       "      <td>-0.019283</td>\n",
       "      <td>0.173293</td>\n",
       "      <td>-0.029477</td>\n",
       "      <td>-0.012912</td>\n",
       "      <td>2.167346e+00</td>\n",
       "    </tr>\n",
       "    <tr>\n",
       "      <th>intermingled</th>\n",
       "      <td>0.0</td>\n",
       "      <td>2.236578e+00</td>\n",
       "      <td>4.312661e+05</td>\n",
       "      <td>1.615579e-01</td>\n",
       "      <td>0.017584</td>\n",
       "      <td>-3.219504e-02</td>\n",
       "      <td>0.002803</td>\n",
       "      <td>0.051478</td>\n",
       "      <td>-0.029477</td>\n",
       "      <td>0.145260</td>\n",
       "      <td>0.029901</td>\n",
       "      <td>3.423378e+00</td>\n",
       "    </tr>\n",
       "    <tr>\n",
       "      <th>sameGov</th>\n",
       "      <td>0.0</td>\n",
       "      <td>-5.168196e-01</td>\n",
       "      <td>1.577969e+05</td>\n",
       "      <td>-8.265970e-02</td>\n",
       "      <td>0.005861</td>\n",
       "      <td>4.791030e-02</td>\n",
       "      <td>-0.017584</td>\n",
       "      <td>0.007900</td>\n",
       "      <td>-0.012912</td>\n",
       "      <td>0.029901</td>\n",
       "      <td>0.201325</td>\n",
       "      <td>5.369521e+00</td>\n",
       "    </tr>\n",
       "    <tr>\n",
       "      <th>sameGovYrs</th>\n",
       "      <td>0.0</td>\n",
       "      <td>2.287943e+02</td>\n",
       "      <td>5.254832e+07</td>\n",
       "      <td>1.731145e+01</td>\n",
       "      <td>-3.384811</td>\n",
       "      <td>1.252769e+01</td>\n",
       "      <td>-0.715936</td>\n",
       "      <td>-0.024295</td>\n",
       "      <td>2.167346</td>\n",
       "      <td>3.423378</td>\n",
       "      <td>5.369521</td>\n",
       "      <td>2.605223e+03</td>\n",
       "    </tr>\n",
       "  </tbody>\n",
       "</table>\n",
       "</div>"
      ],
      "text/plain": [
       "                 revolution        months        deaths     logDeaths  \\\n",
       "revolution              0.0  0.000000e+00  0.000000e+00  0.000000e+00   \n",
       "months                  0.0  9.155041e+02  2.491939e+07  1.236071e+01   \n",
       "deaths                  0.0  2.491939e+07  1.162655e+13  2.445346e+06   \n",
       "logDeaths               0.0  1.236071e+01  2.445346e+06  1.282184e+00   \n",
       "prevConflict            0.0  3.159191e-01 -8.028411e+04  5.700731e-02   \n",
       "prevConflictYrs         0.0  2.464832e+01 -2.674318e+06  1.176206e+00   \n",
       "chronicFighting         0.0  2.559463e-01 -8.575075e+03  2.916327e-02   \n",
       "difWealth               0.0  1.782195e-01 -5.204994e+04  4.211774e-02   \n",
       "difLanguage             0.0  1.257900e+00  1.417483e+05  1.081278e-01   \n",
       "intermingled            0.0  2.236578e+00  4.312661e+05  1.615579e-01   \n",
       "sameGov                 0.0 -5.168196e-01  1.577969e+05 -8.265970e-02   \n",
       "sameGovYrs              0.0  2.287943e+02  5.254832e+07  1.731145e+01   \n",
       "\n",
       "                 prevConflict  prevConflictYrs  chronicFighting     difWealth  \\\n",
       "revolution           0.000000     0.000000e+00         0.000000      0.000000   \n",
       "months               0.315919     2.464832e+01         0.255946      0.178220   \n",
       "deaths          -80284.110771    -2.674318e+06     -8575.075093 -52049.938753   \n",
       "logDeaths            0.057007     1.176206e+00         0.029163      0.042118   \n",
       "prevConflict         0.220014     3.407068e+00         0.015885      0.004672   \n",
       "prevConflictYrs      3.407068     1.566752e+02         0.343612     -0.172358   \n",
       "chronicFighting      0.015885     3.436120e-01         0.035678      0.013761   \n",
       "difWealth            0.004672    -1.723581e-01         0.013761      0.112980   \n",
       "difLanguage          0.067533     1.719079e+00        -0.008155     -0.019283   \n",
       "intermingled         0.017584    -3.219504e-02         0.002803      0.051478   \n",
       "sameGov              0.005861     4.791030e-02        -0.017584      0.007900   \n",
       "sameGovYrs          -3.384811     1.252769e+01        -0.715936     -0.024295   \n",
       "\n",
       "                   difLanguage   intermingled        sameGov    sameGovYrs  \n",
       "revolution            0.000000       0.000000       0.000000  0.000000e+00  \n",
       "months                1.257900       2.236578      -0.516820  2.287943e+02  \n",
       "deaths           141748.262402  431266.143306  157796.942830  5.254832e+07  \n",
       "logDeaths             0.108128       0.161558      -0.082660  1.731145e+01  \n",
       "prevConflict          0.067533       0.017584       0.005861 -3.384811e+00  \n",
       "prevConflictYrs       1.719079      -0.032195       0.047910  1.252769e+01  \n",
       "chronicFighting      -0.008155       0.002803      -0.017584 -7.159361e-01  \n",
       "difWealth            -0.019283       0.051478       0.007900 -2.429494e-02  \n",
       "difLanguage           0.173293      -0.029477      -0.012912  2.167346e+00  \n",
       "intermingled         -0.029477       0.145260       0.029901  3.423378e+00  \n",
       "sameGov              -0.012912       0.029901       0.201325  5.369521e+00  \n",
       "sameGovYrs            2.167346       3.423378       5.369521  2.605223e+03  "
      ]
     },
     "execution_count": 6,
     "metadata": {},
     "output_type": "execute_result"
    }
   ],
   "source": [
    "df_Quarrels.cov()"
   ]
  },
  {
   "cell_type": "markdown",
   "metadata": {},
   "source": [
    "# Data Plots\n",
    "\n",
    "From here, we plotted the data to get a better visualization of what was happening.  Remember, 0 stands for no and 1 stands for yes. We start with have there been prior conflicts?\n",
    "\n",
    "## Prior Conflicts"
   ]
  },
  {
   "cell_type": "code",
   "execution_count": 7,
   "metadata": {
    "collapsed": false
   },
   "outputs": [
    {
     "data": {
      "text/html": [
       "<div>\n",
       "<table border=\"1\" class=\"dataframe\">\n",
       "  <thead>\n",
       "    <tr style=\"text-align: right;\">\n",
       "      <th>col_0</th>\n",
       "      <th>percent</th>\n",
       "    </tr>\n",
       "    <tr>\n",
       "      <th>prevConflict</th>\n",
       "      <th></th>\n",
       "    </tr>\n",
       "  </thead>\n",
       "  <tbody>\n",
       "    <tr>\n",
       "      <th>0</th>\n",
       "      <td>0.678899</td>\n",
       "    </tr>\n",
       "    <tr>\n",
       "      <th>1</th>\n",
       "      <td>0.321101</td>\n",
       "    </tr>\n",
       "  </tbody>\n",
       "</table>\n",
       "</div>"
      ],
      "text/plain": [
       "col_0          percent\n",
       "prevConflict          \n",
       "0             0.678899\n",
       "1             0.321101"
      ]
     },
     "execution_count": 7,
     "metadata": {},
     "output_type": "execute_result"
    }
   ],
   "source": [
    "(pd.crosstab(index=df_Quarrels['prevConflict'], columns='percent'))/(pd.crosstab(index=df_Quarrels['prevConflict'], columns='percent').sum())"
   ]
  },
  {
   "cell_type": "code",
   "execution_count": 8,
   "metadata": {
    "collapsed": false
   },
   "outputs": [
    {
     "data": {
      "text/plain": [
       "<matplotlib.text.Text at 0x1ae3e42e5f8>"
      ]
     },
     "execution_count": 8,
     "metadata": {},
     "output_type": "execute_result"
    },
    {
     "data": {
      "image/png": "[encoded data removed]",
      "text/plain": [
       "<matplotlib.figure.Figure at 0x1ae3a905780>"
      ]
     },
     "metadata": {},
     "output_type": "display_data"
    }
   ],
   "source": [
    "((pd.crosstab(index=df_Quarrels['prevConflict'], columns='percent'))/(pd.crosstab(index=df_Quarrels['prevConflict'], columns='percent').sum())).plot.bar(title='Had Previous Conflict (Percent)', legend=None, grid=True).set_xlabel('prevConflict')"
   ]
  },
  {
   "cell_type": "markdown",
   "metadata": {},
   "source": [
    "## Chronic Fighting"
   ]
  },
  {
   "cell_type": "code",
   "execution_count": 9,
   "metadata": {
    "collapsed": false
   },
   "outputs": [
    {
     "data": {
      "text/html": [
       "<div>\n",
       "<table border=\"1\" class=\"dataframe\">\n",
       "  <thead>\n",
       "    <tr style=\"text-align: right;\">\n",
       "      <th>col_0</th>\n",
       "      <th>percent</th>\n",
       "    </tr>\n",
       "    <tr>\n",
       "      <th>chronicFighting</th>\n",
       "      <th></th>\n",
       "    </tr>\n",
       "  </thead>\n",
       "  <tbody>\n",
       "    <tr>\n",
       "      <th>0</th>\n",
       "      <td>0.963303</td>\n",
       "    </tr>\n",
       "    <tr>\n",
       "      <th>1</th>\n",
       "      <td>0.036697</td>\n",
       "    </tr>\n",
       "  </tbody>\n",
       "</table>\n",
       "</div>"
      ],
      "text/plain": [
       "col_0             percent\n",
       "chronicFighting          \n",
       "0                0.963303\n",
       "1                0.036697"
      ]
     },
     "execution_count": 9,
     "metadata": {},
     "output_type": "execute_result"
    }
   ],
   "source": [
    "(pd.crosstab(index=df_Quarrels['chronicFighting'], columns='percent'))/(pd.crosstab(index=df_Quarrels['chronicFighting'], columns='percent').sum())"
   ]
  },
  {
   "cell_type": "code",
   "execution_count": 10,
   "metadata": {
    "collapsed": false
   },
   "outputs": [
    {
     "data": {
      "text/plain": [
       "<matplotlib.text.Text at 0x1ae3e4189b0>"
      ]
     },
     "execution_count": 10,
     "metadata": {},
     "output_type": "execute_result"
    },
    {
     "data": {
      "image/png": "[encoded data removed]",
      "text/plain": [
       "<matplotlib.figure.Figure at 0x1ae3e45b080>"
      ]
     },
     "metadata": {},
     "output_type": "display_data"
    }
   ],
   "source": [
    "((pd.crosstab(index=df_Quarrels['chronicFighting'], columns='percent'))/(pd.crosstab(index=df_Quarrels['chronicFighting'], columns='percent').sum())).plot.bar(title='Had Chronic Fighting (Percent)', legend=None, grid=True).set_xlabel('chronicFighting')"
   ]
  },
  {
   "cell_type": "code",
   "execution_count": 11,
   "metadata": {
    "collapsed": true
   },
   "outputs": [],
   "source": [
    "## Differeing Levels of Wealth"
   ]
  },
  {
   "cell_type": "code",
   "execution_count": 12,
   "metadata": {
    "collapsed": false
   },
   "outputs": [
    {
     "data": {
      "text/html": [
       "<div>\n",
       "<table border=\"1\" class=\"dataframe\">\n",
       "  <thead>\n",
       "    <tr style=\"text-align: right;\">\n",
       "      <th>col_0</th>\n",
       "      <th>percent</th>\n",
       "    </tr>\n",
       "    <tr>\n",
       "      <th>difWealth</th>\n",
       "      <th></th>\n",
       "    </tr>\n",
       "  </thead>\n",
       "  <tbody>\n",
       "    <tr>\n",
       "      <th>0</th>\n",
       "      <td>0.87156</td>\n",
       "    </tr>\n",
       "    <tr>\n",
       "      <th>1</th>\n",
       "      <td>0.12844</td>\n",
       "    </tr>\n",
       "  </tbody>\n",
       "</table>\n",
       "</div>"
      ],
      "text/plain": [
       "col_0      percent\n",
       "difWealth         \n",
       "0          0.87156\n",
       "1          0.12844"
      ]
     },
     "execution_count": 12,
     "metadata": {},
     "output_type": "execute_result"
    }
   ],
   "source": [
    "(pd.crosstab(index=df_Quarrels['difWealth'], columns='percent'))/(pd.crosstab(index=df_Quarrels['difWealth'], columns='percent').sum())"
   ]
  },
  {
   "cell_type": "code",
   "execution_count": 13,
   "metadata": {
    "collapsed": false
   },
   "outputs": [
    {
     "data": {
      "text/plain": [
       "<matplotlib.text.Text at 0x1ae3e9c60b8>"
      ]
     },
     "execution_count": 13,
     "metadata": {},
     "output_type": "execute_result"
    },
    {
     "data": {
      "image/png": "[encoded data removed]",
      "text/plain": [
       "<matplotlib.figure.Figure at 0x1ae3e9919e8>"
      ]
     },
     "metadata": {},
     "output_type": "display_data"
    }
   ],
   "source": [
    "((pd.crosstab(index=df_Quarrels['difWealth'], columns='percent'))/(pd.crosstab(index=df_Quarrels['difWealth'], columns='percent').sum())).plot.bar(title='Differences in Wealth (Percent)', legend=None, grid=True).set_xlabel('difWealth')"
   ]
  },
  {
   "cell_type": "markdown",
   "metadata": {},
   "source": [
    "## Are different languages spoken?"
   ]
  },
  {
   "cell_type": "code",
   "execution_count": 14,
   "metadata": {
    "collapsed": false
   },
   "outputs": [
    {
     "data": {
      "text/html": [
       "<div>\n",
       "<table border=\"1\" class=\"dataframe\">\n",
       "  <thead>\n",
       "    <tr style=\"text-align: right;\">\n",
       "      <th>col_0</th>\n",
       "      <th>percent</th>\n",
       "    </tr>\n",
       "    <tr>\n",
       "      <th>difLanguage</th>\n",
       "      <th></th>\n",
       "    </tr>\n",
       "  </thead>\n",
       "  <tbody>\n",
       "    <tr>\n",
       "      <th>0</th>\n",
       "      <td>0.779817</td>\n",
       "    </tr>\n",
       "    <tr>\n",
       "      <th>1</th>\n",
       "      <td>0.220183</td>\n",
       "    </tr>\n",
       "  </tbody>\n",
       "</table>\n",
       "</div>"
      ],
      "text/plain": [
       "col_0         percent\n",
       "difLanguage          \n",
       "0            0.779817\n",
       "1            0.220183"
      ]
     },
     "execution_count": 14,
     "metadata": {},
     "output_type": "execute_result"
    }
   ],
   "source": [
    "(pd.crosstab(index=df_Quarrels['difLanguage'], columns='percent'))/(pd.crosstab(index=df_Quarrels['difLanguage'], columns='percent').sum())"
   ]
  },
  {
   "cell_type": "code",
   "execution_count": 15,
   "metadata": {
    "collapsed": false
   },
   "outputs": [
    {
     "data": {
      "text/plain": [
       "<matplotlib.text.Text at 0x1ae3e9e0128>"
      ]
     },
     "execution_count": 15,
     "metadata": {},
     "output_type": "execute_result"
    },
    {
     "data": {
      "image/png": "[encoded data removed]",
      "text/plain": [
       "<matplotlib.figure.Figure at 0x1ae3ea07ac8>"
      ]
     },
     "metadata": {},
     "output_type": "display_data"
    }
   ],
   "source": [
    "((pd.crosstab(index=df_Quarrels['difLanguage'], columns='percent'))/(pd.crosstab(index=df_Quarrels['difLanguage'], columns='percent').sum())).plot.bar(title='Have Different Language (Percent)', legend=None, grid=True).set_xlabel('difLanguage')"
   ]
  },
  {
   "cell_type": "code",
   "execution_count": 16,
   "metadata": {
    "collapsed": true
   },
   "outputs": [],
   "source": [
    "## Is the territory of the two intermingled?"
   ]
  },
  {
   "cell_type": "code",
   "execution_count": 17,
   "metadata": {
    "collapsed": false,
    "scrolled": true
   },
   "outputs": [
    {
     "data": {
      "text/html": [
       "<div>\n",
       "<table border=\"1\" class=\"dataframe\">\n",
       "  <thead>\n",
       "    <tr style=\"text-align: right;\">\n",
       "      <th>col_0</th>\n",
       "      <th>percent</th>\n",
       "    </tr>\n",
       "    <tr>\n",
       "      <th>intermingled</th>\n",
       "      <th></th>\n",
       "    </tr>\n",
       "  </thead>\n",
       "  <tbody>\n",
       "    <tr>\n",
       "      <th>0</th>\n",
       "      <td>0.825688</td>\n",
       "    </tr>\n",
       "    <tr>\n",
       "      <th>1</th>\n",
       "      <td>0.174312</td>\n",
       "    </tr>\n",
       "  </tbody>\n",
       "</table>\n",
       "</div>"
      ],
      "text/plain": [
       "col_0          percent\n",
       "intermingled          \n",
       "0             0.825688\n",
       "1             0.174312"
      ]
     },
     "execution_count": 17,
     "metadata": {},
     "output_type": "execute_result"
    }
   ],
   "source": [
    "(pd.crosstab(index=df_Quarrels['intermingled'], columns='percent'))/(pd.crosstab(index=df_Quarrels['intermingled'], columns='percent').sum())"
   ]
  },
  {
   "cell_type": "code",
   "execution_count": 18,
   "metadata": {
    "collapsed": false,
    "scrolled": true
   },
   "outputs": [
    {
     "data": {
      "text/plain": [
       "<matplotlib.text.Text at 0x1ae3ea746a0>"
      ]
     },
     "execution_count": 18,
     "metadata": {},
     "output_type": "execute_result"
    },
    {
     "data": {
      "image/png": "[encoded data removed]",
      "text/plain": [
       "<matplotlib.figure.Figure at 0x1ae3e9f1588>"
      ]
     },
     "metadata": {},
     "output_type": "display_data"
    }
   ],
   "source": [
    "((pd.crosstab(index=df_Quarrels['intermingled'], columns='percent'))/(pd.crosstab(index=df_Quarrels['intermingled'], columns='percent').sum())).plot.bar(title='Have Intermingled Territory (Percent)', legend=None, grid=True).set_xlabel('intermingled')"
   ]
  },
  {
   "cell_type": "markdown",
   "metadata": {},
   "source": [
    "## Did the belligerents share the same government?"
   ]
  },
  {
   "cell_type": "code",
   "execution_count": 19,
   "metadata": {
    "collapsed": false
   },
   "outputs": [
    {
     "data": {
      "text/html": [
       "<div>\n",
       "<table border=\"1\" class=\"dataframe\">\n",
       "  <thead>\n",
       "    <tr style=\"text-align: right;\">\n",
       "      <th>col_0</th>\n",
       "      <th>percent</th>\n",
       "    </tr>\n",
       "    <tr>\n",
       "      <th>sameGov</th>\n",
       "      <th></th>\n",
       "    </tr>\n",
       "  </thead>\n",
       "  <tbody>\n",
       "    <tr>\n",
       "      <th>0</th>\n",
       "      <td>0.275229</td>\n",
       "    </tr>\n",
       "    <tr>\n",
       "      <th>1</th>\n",
       "      <td>0.724771</td>\n",
       "    </tr>\n",
       "  </tbody>\n",
       "</table>\n",
       "</div>"
      ],
      "text/plain": [
       "col_0     percent\n",
       "sameGov          \n",
       "0        0.275229\n",
       "1        0.724771"
      ]
     },
     "execution_count": 19,
     "metadata": {},
     "output_type": "execute_result"
    }
   ],
   "source": [
    "(pd.crosstab(index=df_Quarrels['sameGov'], columns='percent'))/(pd.crosstab(index=df_Quarrels['sameGov'], columns='percent').sum())"
   ]
  },
  {
   "cell_type": "code",
   "execution_count": 20,
   "metadata": {
    "collapsed": false
   },
   "outputs": [
    {
     "data": {
      "text/plain": [
       "<matplotlib.text.Text at 0x1ae3eb29400>"
      ]
     },
     "execution_count": 20,
     "metadata": {},
     "output_type": "execute_result"
    },
    {
     "data": {
      "image/png": "[encoded data removed]",
      "text/plain": [
       "<matplotlib.figure.Figure at 0x1ae3eaebb38>"
      ]
     },
     "metadata": {},
     "output_type": "display_data"
    }
   ],
   "source": [
    "((pd.crosstab(index=df_Quarrels['sameGov'], columns='percent'))/(pd.crosstab(index=df_Quarrels['sameGov'], columns='percent').sum())).plot.bar(title='Have Same Government (Percent)', legend=None, grid=True).set_xlabel('sameGov')"
   ]
  },
  {
   "cell_type": "markdown",
   "metadata": {},
   "source": [
    "# Now compare some variables against each other by count, percentage, and plotting them"
   ]
  },
  {
   "cell_type": "markdown",
   "metadata": {},
   "source": [
    "## Differences of Wealth vs. Differences of Language"
   ]
  },
  {
   "cell_type": "code",
   "execution_count": 21,
   "metadata": {
    "collapsed": false
   },
   "outputs": [
    {
     "data": {
      "text/html": [
       "<div>\n",
       "<table border=\"1\" class=\"dataframe\">\n",
       "  <thead>\n",
       "    <tr style=\"text-align: right;\">\n",
       "      <th>difLanguage</th>\n",
       "      <th>0</th>\n",
       "      <th>1</th>\n",
       "      <th>All</th>\n",
       "    </tr>\n",
       "    <tr>\n",
       "      <th>difWealth</th>\n",
       "      <th></th>\n",
       "      <th></th>\n",
       "      <th></th>\n",
       "    </tr>\n",
       "  </thead>\n",
       "  <tbody>\n",
       "    <tr>\n",
       "      <th>0</th>\n",
       "      <td>72</td>\n",
       "      <td>23</td>\n",
       "      <td>95</td>\n",
       "    </tr>\n",
       "    <tr>\n",
       "      <th>1</th>\n",
       "      <td>13</td>\n",
       "      <td>1</td>\n",
       "      <td>14</td>\n",
       "    </tr>\n",
       "    <tr>\n",
       "      <th>All</th>\n",
       "      <td>85</td>\n",
       "      <td>24</td>\n",
       "      <td>109</td>\n",
       "    </tr>\n",
       "  </tbody>\n",
       "</table>\n",
       "</div>"
      ],
      "text/plain": [
       "difLanguage   0   1  All\n",
       "difWealth               \n",
       "0            72  23   95\n",
       "1            13   1   14\n",
       "All          85  24  109"
      ]
     },
     "execution_count": 21,
     "metadata": {},
     "output_type": "execute_result"
    }
   ],
   "source": [
    "pd.crosstab(df_Quarrels['difWealth'], df_Quarrels['difLanguage'], margins=True)"
   ]
  },
  {
   "cell_type": "code",
   "execution_count": 22,
   "metadata": {
    "collapsed": false
   },
   "outputs": [
    {
     "data": {
      "text/html": [
       "<div>\n",
       "<table border=\"1\" class=\"dataframe\">\n",
       "  <thead>\n",
       "    <tr style=\"text-align: right;\">\n",
       "      <th>difLanguage</th>\n",
       "      <th>0</th>\n",
       "      <th>1</th>\n",
       "    </tr>\n",
       "    <tr>\n",
       "      <th>difWealth</th>\n",
       "      <th></th>\n",
       "      <th></th>\n",
       "    </tr>\n",
       "  </thead>\n",
       "  <tbody>\n",
       "    <tr>\n",
       "      <th>0</th>\n",
       "      <td>0.660550</td>\n",
       "      <td>0.211009</td>\n",
       "    </tr>\n",
       "    <tr>\n",
       "      <th>1</th>\n",
       "      <td>0.119266</td>\n",
       "      <td>0.009174</td>\n",
       "    </tr>\n",
       "  </tbody>\n",
       "</table>\n",
       "</div>"
      ],
      "text/plain": [
       "difLanguage         0         1\n",
       "difWealth                      \n",
       "0            0.660550  0.211009\n",
       "1            0.119266  0.009174"
      ]
     },
     "execution_count": 22,
     "metadata": {},
     "output_type": "execute_result"
    }
   ],
   "source": [
    "pd.crosstab(df_Quarrels['difWealth'], df_Quarrels['difLanguage']).apply(lambda r: r/len(df_Quarrels))"
   ]
  },
  {
   "cell_type": "code",
   "execution_count": 23,
   "metadata": {
    "collapsed": false
   },
   "outputs": [
    {
     "data": {
      "text/plain": [
       "<matplotlib.axes._subplots.AxesSubplot at 0x1ae3eb59470>"
      ]
     },
     "execution_count": 23,
     "metadata": {},
     "output_type": "execute_result"
    },
    {
     "data": {
      "image/png": "[encoded data removed]",
      "text/plain": [
       "<matplotlib.figure.Figure at 0x1ae3eb5ffd0>"
      ]
     },
     "metadata": {},
     "output_type": "display_data"
    }
   ],
   "source": [
    "(pd.crosstab(df_Quarrels['difWealth'], df_Quarrels['difLanguage']).apply(lambda r: r/len(df_Quarrels))).plot.bar(title='Differences in Wealth and Language (Percent)', grid=True)"
   ]
  },
  {
   "cell_type": "markdown",
   "metadata": {},
   "source": [
    "## Differences of Wealth vs Intermingled Territory"
   ]
  },
  {
   "cell_type": "code",
   "execution_count": 24,
   "metadata": {
    "collapsed": false
   },
   "outputs": [
    {
     "data": {
      "text/html": [
       "<div>\n",
       "<table border=\"1\" class=\"dataframe\">\n",
       "  <thead>\n",
       "    <tr style=\"text-align: right;\">\n",
       "      <th>intermingled</th>\n",
       "      <th>0</th>\n",
       "      <th>1</th>\n",
       "      <th>All</th>\n",
       "    </tr>\n",
       "    <tr>\n",
       "      <th>difWealth</th>\n",
       "      <th></th>\n",
       "      <th></th>\n",
       "      <th></th>\n",
       "    </tr>\n",
       "  </thead>\n",
       "  <tbody>\n",
       "    <tr>\n",
       "      <th>0</th>\n",
       "      <td>84</td>\n",
       "      <td>11</td>\n",
       "      <td>95</td>\n",
       "    </tr>\n",
       "    <tr>\n",
       "      <th>1</th>\n",
       "      <td>6</td>\n",
       "      <td>8</td>\n",
       "      <td>14</td>\n",
       "    </tr>\n",
       "    <tr>\n",
       "      <th>All</th>\n",
       "      <td>90</td>\n",
       "      <td>19</td>\n",
       "      <td>109</td>\n",
       "    </tr>\n",
       "  </tbody>\n",
       "</table>\n",
       "</div>"
      ],
      "text/plain": [
       "intermingled   0   1  All\n",
       "difWealth                \n",
       "0             84  11   95\n",
       "1              6   8   14\n",
       "All           90  19  109"
      ]
     },
     "execution_count": 24,
     "metadata": {},
     "output_type": "execute_result"
    }
   ],
   "source": [
    "pd.crosstab(df_Quarrels['difWealth'], df_Quarrels['intermingled'], margins=True)"
   ]
  },
  {
   "cell_type": "code",
   "execution_count": 25,
   "metadata": {
    "collapsed": false
   },
   "outputs": [
    {
     "data": {
      "text/html": [
       "<div>\n",
       "<table border=\"1\" class=\"dataframe\">\n",
       "  <thead>\n",
       "    <tr style=\"text-align: right;\">\n",
       "      <th>intermingled</th>\n",
       "      <th>0</th>\n",
       "      <th>1</th>\n",
       "    </tr>\n",
       "    <tr>\n",
       "      <th>difWealth</th>\n",
       "      <th></th>\n",
       "      <th></th>\n",
       "    </tr>\n",
       "  </thead>\n",
       "  <tbody>\n",
       "    <tr>\n",
       "      <th>0</th>\n",
       "      <td>0.770642</td>\n",
       "      <td>0.100917</td>\n",
       "    </tr>\n",
       "    <tr>\n",
       "      <th>1</th>\n",
       "      <td>0.055046</td>\n",
       "      <td>0.073394</td>\n",
       "    </tr>\n",
       "  </tbody>\n",
       "</table>\n",
       "</div>"
      ],
      "text/plain": [
       "intermingled         0         1\n",
       "difWealth                       \n",
       "0             0.770642  0.100917\n",
       "1             0.055046  0.073394"
      ]
     },
     "execution_count": 25,
     "metadata": {},
     "output_type": "execute_result"
    }
   ],
   "source": [
    "pd.crosstab(df_Quarrels['difWealth'], df_Quarrels['intermingled']).apply(lambda r: r/len(df_Quarrels))"
   ]
  },
  {
   "cell_type": "code",
   "execution_count": 26,
   "metadata": {
    "collapsed": false
   },
   "outputs": [
    {
     "data": {
      "text/plain": [
       "<matplotlib.axes._subplots.AxesSubplot at 0x1ae3fbc6908>"
      ]
     },
     "execution_count": 26,
     "metadata": {},
     "output_type": "execute_result"
    },
    {
     "data": {
      "image/png": "[encoded data removed]",
      "text/plain": [
       "<matplotlib.figure.Figure at 0x1ae3fb89198>"
      ]
     },
     "metadata": {},
     "output_type": "display_data"
    }
   ],
   "source": [
    "(pd.crosstab(df_Quarrels['difWealth'], df_Quarrels['intermingled']).apply(lambda r: r/len(df_Quarrels))).plot.bar(title='Differences in Wealth and Intermingled Territory (Percent)', grid=True)\n"
   ]
  },
  {
   "cell_type": "markdown",
   "metadata": {},
   "source": [
    "## Previous Conflicts vs Differences of Wealth"
   ]
  },
  {
   "cell_type": "code",
   "execution_count": 27,
   "metadata": {
    "collapsed": false
   },
   "outputs": [
    {
     "data": {
      "text/html": [
       "<div>\n",
       "<table border=\"1\" class=\"dataframe\">\n",
       "  <thead>\n",
       "    <tr style=\"text-align: right;\">\n",
       "      <th>difWealth</th>\n",
       "      <th>0</th>\n",
       "      <th>1</th>\n",
       "      <th>All</th>\n",
       "    </tr>\n",
       "    <tr>\n",
       "      <th>prevConflict</th>\n",
       "      <th></th>\n",
       "      <th></th>\n",
       "      <th></th>\n",
       "    </tr>\n",
       "  </thead>\n",
       "  <tbody>\n",
       "    <tr>\n",
       "      <th>0</th>\n",
       "      <td>65</td>\n",
       "      <td>9</td>\n",
       "      <td>74</td>\n",
       "    </tr>\n",
       "    <tr>\n",
       "      <th>1</th>\n",
       "      <td>30</td>\n",
       "      <td>5</td>\n",
       "      <td>35</td>\n",
       "    </tr>\n",
       "    <tr>\n",
       "      <th>All</th>\n",
       "      <td>95</td>\n",
       "      <td>14</td>\n",
       "      <td>109</td>\n",
       "    </tr>\n",
       "  </tbody>\n",
       "</table>\n",
       "</div>"
      ],
      "text/plain": [
       "difWealth      0   1  All\n",
       "prevConflict             \n",
       "0             65   9   74\n",
       "1             30   5   35\n",
       "All           95  14  109"
      ]
     },
     "execution_count": 27,
     "metadata": {},
     "output_type": "execute_result"
    }
   ],
   "source": [
    "pd.crosstab(df_Quarrels['prevConflict'], df_Quarrels['difWealth'], margins=True)"
   ]
  },
  {
   "cell_type": "code",
   "execution_count": 28,
   "metadata": {
    "collapsed": false
   },
   "outputs": [
    {
     "data": {
      "text/html": [
       "<div>\n",
       "<table border=\"1\" class=\"dataframe\">\n",
       "  <thead>\n",
       "    <tr style=\"text-align: right;\">\n",
       "      <th>difWealth</th>\n",
       "      <th>0</th>\n",
       "      <th>1</th>\n",
       "    </tr>\n",
       "    <tr>\n",
       "      <th>prevConflict</th>\n",
       "      <th></th>\n",
       "      <th></th>\n",
       "    </tr>\n",
       "  </thead>\n",
       "  <tbody>\n",
       "    <tr>\n",
       "      <th>0</th>\n",
       "      <td>0.596330</td>\n",
       "      <td>0.082569</td>\n",
       "    </tr>\n",
       "    <tr>\n",
       "      <th>1</th>\n",
       "      <td>0.275229</td>\n",
       "      <td>0.045872</td>\n",
       "    </tr>\n",
       "  </tbody>\n",
       "</table>\n",
       "</div>"
      ],
      "text/plain": [
       "difWealth            0         1\n",
       "prevConflict                    \n",
       "0             0.596330  0.082569\n",
       "1             0.275229  0.045872"
      ]
     },
     "execution_count": 28,
     "metadata": {},
     "output_type": "execute_result"
    }
   ],
   "source": [
    "pd.crosstab(df_Quarrels['prevConflict'], df_Quarrels['difWealth']).apply(lambda r: r/len(df_Quarrels))"
   ]
  },
  {
   "cell_type": "code",
   "execution_count": 29,
   "metadata": {
    "collapsed": false
   },
   "outputs": [
    {
     "data": {
      "text/plain": [
       "<matplotlib.axes._subplots.AxesSubplot at 0x1ae3fc43198>"
      ]
     },
     "execution_count": 29,
     "metadata": {},
     "output_type": "execute_result"
    },
    {
     "data": {
      "image/png": "[encoded data removed]",
      "text/plain": [
       "<matplotlib.figure.Figure at 0x1ae3fc8fb70>"
      ]
     },
     "metadata": {},
     "output_type": "display_data"
    }
   ],
   "source": [
    "(pd.crosstab(df_Quarrels['prevConflict'], df_Quarrels['difWealth']).apply(lambda r: r/len(df_Quarrels))).plot.bar(title='Differences in Previous Conflicts and Wealth (Percent)', grid=True)"
   ]
  },
  {
   "cell_type": "markdown",
   "metadata": {},
   "source": [
    "## Previous Conflicts vs Differences in Language"
   ]
  },
  {
   "cell_type": "code",
   "execution_count": 30,
   "metadata": {
    "collapsed": false
   },
   "outputs": [
    {
     "data": {
      "text/html": [
       "<div>\n",
       "<table border=\"1\" class=\"dataframe\">\n",
       "  <thead>\n",
       "    <tr style=\"text-align: right;\">\n",
       "      <th>difLanguage</th>\n",
       "      <th>0</th>\n",
       "      <th>1</th>\n",
       "      <th>All</th>\n",
       "    </tr>\n",
       "    <tr>\n",
       "      <th>prevConflict</th>\n",
       "      <th></th>\n",
       "      <th></th>\n",
       "      <th></th>\n",
       "    </tr>\n",
       "  </thead>\n",
       "  <tbody>\n",
       "    <tr>\n",
       "      <th>0</th>\n",
       "      <td>65</td>\n",
       "      <td>9</td>\n",
       "      <td>74</td>\n",
       "    </tr>\n",
       "    <tr>\n",
       "      <th>1</th>\n",
       "      <td>20</td>\n",
       "      <td>15</td>\n",
       "      <td>35</td>\n",
       "    </tr>\n",
       "    <tr>\n",
       "      <th>All</th>\n",
       "      <td>85</td>\n",
       "      <td>24</td>\n",
       "      <td>109</td>\n",
       "    </tr>\n",
       "  </tbody>\n",
       "</table>\n",
       "</div>"
      ],
      "text/plain": [
       "difLanguage    0   1  All\n",
       "prevConflict             \n",
       "0             65   9   74\n",
       "1             20  15   35\n",
       "All           85  24  109"
      ]
     },
     "execution_count": 30,
     "metadata": {},
     "output_type": "execute_result"
    }
   ],
   "source": [
    "pd.crosstab(df_Quarrels['prevConflict'], df_Quarrels['difLanguage'], margins=True)"
   ]
  },
  {
   "cell_type": "code",
   "execution_count": 31,
   "metadata": {
    "collapsed": false
   },
   "outputs": [
    {
     "data": {
      "text/html": [
       "<div>\n",
       "<table border=\"1\" class=\"dataframe\">\n",
       "  <thead>\n",
       "    <tr style=\"text-align: right;\">\n",
       "      <th>difLanguage</th>\n",
       "      <th>0</th>\n",
       "      <th>1</th>\n",
       "    </tr>\n",
       "    <tr>\n",
       "      <th>prevConflict</th>\n",
       "      <th></th>\n",
       "      <th></th>\n",
       "    </tr>\n",
       "  </thead>\n",
       "  <tbody>\n",
       "    <tr>\n",
       "      <th>0</th>\n",
       "      <td>0.596330</td>\n",
       "      <td>0.082569</td>\n",
       "    </tr>\n",
       "    <tr>\n",
       "      <th>1</th>\n",
       "      <td>0.183486</td>\n",
       "      <td>0.137615</td>\n",
       "    </tr>\n",
       "  </tbody>\n",
       "</table>\n",
       "</div>"
      ],
      "text/plain": [
       "difLanguage          0         1\n",
       "prevConflict                    \n",
       "0             0.596330  0.082569\n",
       "1             0.183486  0.137615"
      ]
     },
     "execution_count": 31,
     "metadata": {},
     "output_type": "execute_result"
    }
   ],
   "source": [
    "pd.crosstab(df_Quarrels['prevConflict'], df_Quarrels['difLanguage']).apply(lambda r: r/len(df_Quarrels))"
   ]
  },
  {
   "cell_type": "code",
   "execution_count": 32,
   "metadata": {
    "collapsed": false
   },
   "outputs": [
    {
     "data": {
      "text/plain": [
       "<matplotlib.axes._subplots.AxesSubplot at 0x1ae3fd19b38>"
      ]
     },
     "execution_count": 32,
     "metadata": {},
     "output_type": "execute_result"
    },
    {
     "data": {
      "image/png": "[encoded data removed]",
      "text/plain": [
       "<matplotlib.figure.Figure at 0x1ae3fc824e0>"
      ]
     },
     "metadata": {},
     "output_type": "display_data"
    }
   ],
   "source": [
    "(pd.crosstab(df_Quarrels['prevConflict'], df_Quarrels['difLanguage']).apply(lambda r: r/len(df_Quarrels))).plot.bar(title='Differences in Previous Conflicts and Language (Percent)', grid=True)"
   ]
  },
  {
   "cell_type": "markdown",
   "metadata": {},
   "source": [
    "## Previous Conflicts vs Intermingled Territory"
   ]
  },
  {
   "cell_type": "code",
   "execution_count": 33,
   "metadata": {
    "collapsed": false
   },
   "outputs": [
    {
     "data": {
      "text/html": [
       "<div>\n",
       "<table border=\"1\" class=\"dataframe\">\n",
       "  <thead>\n",
       "    <tr style=\"text-align: right;\">\n",
       "      <th>intermingled</th>\n",
       "      <th>0</th>\n",
       "      <th>1</th>\n",
       "      <th>All</th>\n",
       "    </tr>\n",
       "    <tr>\n",
       "      <th>prevConflict</th>\n",
       "      <th></th>\n",
       "      <th></th>\n",
       "      <th></th>\n",
       "    </tr>\n",
       "  </thead>\n",
       "  <tbody>\n",
       "    <tr>\n",
       "      <th>0</th>\n",
       "      <td>63</td>\n",
       "      <td>11</td>\n",
       "      <td>74</td>\n",
       "    </tr>\n",
       "    <tr>\n",
       "      <th>1</th>\n",
       "      <td>27</td>\n",
       "      <td>8</td>\n",
       "      <td>35</td>\n",
       "    </tr>\n",
       "    <tr>\n",
       "      <th>All</th>\n",
       "      <td>90</td>\n",
       "      <td>19</td>\n",
       "      <td>109</td>\n",
       "    </tr>\n",
       "  </tbody>\n",
       "</table>\n",
       "</div>"
      ],
      "text/plain": [
       "intermingled   0   1  All\n",
       "prevConflict             \n",
       "0             63  11   74\n",
       "1             27   8   35\n",
       "All           90  19  109"
      ]
     },
     "execution_count": 33,
     "metadata": {},
     "output_type": "execute_result"
    }
   ],
   "source": [
    "pd.crosstab(df_Quarrels['prevConflict'], df_Quarrels['intermingled'], margins=True)"
   ]
  },
  {
   "cell_type": "code",
   "execution_count": 34,
   "metadata": {
    "collapsed": false
   },
   "outputs": [
    {
     "data": {
      "text/html": [
       "<div>\n",
       "<table border=\"1\" class=\"dataframe\">\n",
       "  <thead>\n",
       "    <tr style=\"text-align: right;\">\n",
       "      <th>intermingled</th>\n",
       "      <th>0</th>\n",
       "      <th>1</th>\n",
       "    </tr>\n",
       "    <tr>\n",
       "      <th>prevConflict</th>\n",
       "      <th></th>\n",
       "      <th></th>\n",
       "    </tr>\n",
       "  </thead>\n",
       "  <tbody>\n",
       "    <tr>\n",
       "      <th>0</th>\n",
       "      <td>0.577982</td>\n",
       "      <td>0.100917</td>\n",
       "    </tr>\n",
       "    <tr>\n",
       "      <th>1</th>\n",
       "      <td>0.247706</td>\n",
       "      <td>0.073394</td>\n",
       "    </tr>\n",
       "  </tbody>\n",
       "</table>\n",
       "</div>"
      ],
      "text/plain": [
       "intermingled         0         1\n",
       "prevConflict                    \n",
       "0             0.577982  0.100917\n",
       "1             0.247706  0.073394"
      ]
     },
     "execution_count": 34,
     "metadata": {},
     "output_type": "execute_result"
    }
   ],
   "source": [
    "pd.crosstab(df_Quarrels['prevConflict'], df_Quarrels['intermingled']).apply(lambda r: r/len(df_Quarrels))"
   ]
  },
  {
   "cell_type": "code",
   "execution_count": 35,
   "metadata": {
    "collapsed": false
   },
   "outputs": [
    {
     "data": {
      "text/plain": [
       "<matplotlib.axes._subplots.AxesSubplot at 0x1ae3fd11828>"
      ]
     },
     "execution_count": 35,
     "metadata": {},
     "output_type": "execute_result"
    },
    {
     "data": {
      "image/png": "[encoded data removed]",
      "text/plain": [
       "<matplotlib.figure.Figure at 0x1ae3fd42710>"
      ]
     },
     "metadata": {},
     "output_type": "display_data"
    }
   ],
   "source": [
    "(pd.crosstab(df_Quarrels['prevConflict'], df_Quarrels['intermingled']).apply(lambda r: r/len(df_Quarrels))).plot.bar(title='Differences in Previous Conflicts and Intermingled Territory (Percent)', grid=True)"
   ]
  },
  {
   "cell_type": "markdown",
   "metadata": {},
   "source": [
    "## Differences in Wealth vs Same Government"
   ]
  },
  {
   "cell_type": "code",
   "execution_count": 36,
   "metadata": {
    "collapsed": false
   },
   "outputs": [
    {
     "data": {
      "text/html": [
       "<div>\n",
       "<table border=\"1\" class=\"dataframe\">\n",
       "  <thead>\n",
       "    <tr style=\"text-align: right;\">\n",
       "      <th>sameGov</th>\n",
       "      <th>0</th>\n",
       "      <th>1</th>\n",
       "      <th>All</th>\n",
       "    </tr>\n",
       "    <tr>\n",
       "      <th>difWealth</th>\n",
       "      <th></th>\n",
       "      <th></th>\n",
       "      <th></th>\n",
       "    </tr>\n",
       "  </thead>\n",
       "  <tbody>\n",
       "    <tr>\n",
       "      <th>0</th>\n",
       "      <td>27</td>\n",
       "      <td>68</td>\n",
       "      <td>95</td>\n",
       "    </tr>\n",
       "    <tr>\n",
       "      <th>1</th>\n",
       "      <td>3</td>\n",
       "      <td>11</td>\n",
       "      <td>14</td>\n",
       "    </tr>\n",
       "    <tr>\n",
       "      <th>All</th>\n",
       "      <td>30</td>\n",
       "      <td>79</td>\n",
       "      <td>109</td>\n",
       "    </tr>\n",
       "  </tbody>\n",
       "</table>\n",
       "</div>"
      ],
      "text/plain": [
       "sameGov     0   1  All\n",
       "difWealth             \n",
       "0          27  68   95\n",
       "1           3  11   14\n",
       "All        30  79  109"
      ]
     },
     "execution_count": 36,
     "metadata": {},
     "output_type": "execute_result"
    }
   ],
   "source": [
    "pd.crosstab(df_Quarrels['difWealth'], df_Quarrels['sameGov'], margins=True)"
   ]
  },
  {
   "cell_type": "code",
   "execution_count": 37,
   "metadata": {
    "collapsed": false
   },
   "outputs": [
    {
     "data": {
      "text/html": [
       "<div>\n",
       "<table border=\"1\" class=\"dataframe\">\n",
       "  <thead>\n",
       "    <tr style=\"text-align: right;\">\n",
       "      <th>sameGov</th>\n",
       "      <th>0</th>\n",
       "      <th>1</th>\n",
       "    </tr>\n",
       "    <tr>\n",
       "      <th>difWealth</th>\n",
       "      <th></th>\n",
       "      <th></th>\n",
       "    </tr>\n",
       "  </thead>\n",
       "  <tbody>\n",
       "    <tr>\n",
       "      <th>0</th>\n",
       "      <td>0.247706</td>\n",
       "      <td>0.623853</td>\n",
       "    </tr>\n",
       "    <tr>\n",
       "      <th>1</th>\n",
       "      <td>0.027523</td>\n",
       "      <td>0.100917</td>\n",
       "    </tr>\n",
       "  </tbody>\n",
       "</table>\n",
       "</div>"
      ],
      "text/plain": [
       "sameGov           0         1\n",
       "difWealth                    \n",
       "0          0.247706  0.623853\n",
       "1          0.027523  0.100917"
      ]
     },
     "execution_count": 37,
     "metadata": {},
     "output_type": "execute_result"
    }
   ],
   "source": [
    "pd.crosstab(df_Quarrels['difWealth'], df_Quarrels['sameGov']).apply(lambda r: r/len(df_Quarrels))"
   ]
  },
  {
   "cell_type": "code",
   "execution_count": 38,
   "metadata": {
    "collapsed": false
   },
   "outputs": [
    {
     "data": {
      "text/plain": [
       "<matplotlib.axes._subplots.AxesSubplot at 0x1ae3fd3be48>"
      ]
     },
     "execution_count": 38,
     "metadata": {},
     "output_type": "execute_result"
    },
    {
     "data": {
      "image/png": "[encoded data removed]",
      "text/plain": [
       "<matplotlib.figure.Figure at 0x1ae3fda89b0>"
      ]
     },
     "metadata": {},
     "output_type": "display_data"
    }
   ],
   "source": [
    "(pd.crosstab(df_Quarrels['difWealth'], df_Quarrels['sameGov']).apply(lambda r: r/len(df_Quarrels))).plot.bar(title='Differences in Wealth and Sharing Same Government (Percent)', grid=True)"
   ]
  },
  {
   "cell_type": "markdown",
   "metadata": {},
   "source": [
    "## Different Languages vs having the Same Government"
   ]
  },
  {
   "cell_type": "code",
   "execution_count": 39,
   "metadata": {
    "collapsed": false
   },
   "outputs": [
    {
     "data": {
      "text/html": [
       "<div>\n",
       "<table border=\"1\" class=\"dataframe\">\n",
       "  <thead>\n",
       "    <tr style=\"text-align: right;\">\n",
       "      <th>sameGov</th>\n",
       "      <th>0</th>\n",
       "      <th>1</th>\n",
       "      <th>All</th>\n",
       "    </tr>\n",
       "    <tr>\n",
       "      <th>difLanguage</th>\n",
       "      <th></th>\n",
       "      <th></th>\n",
       "      <th></th>\n",
       "    </tr>\n",
       "  </thead>\n",
       "  <tbody>\n",
       "    <tr>\n",
       "      <th>0</th>\n",
       "      <td>22</td>\n",
       "      <td>63</td>\n",
       "      <td>85</td>\n",
       "    </tr>\n",
       "    <tr>\n",
       "      <th>1</th>\n",
       "      <td>8</td>\n",
       "      <td>16</td>\n",
       "      <td>24</td>\n",
       "    </tr>\n",
       "    <tr>\n",
       "      <th>All</th>\n",
       "      <td>30</td>\n",
       "      <td>79</td>\n",
       "      <td>109</td>\n",
       "    </tr>\n",
       "  </tbody>\n",
       "</table>\n",
       "</div>"
      ],
      "text/plain": [
       "sameGov       0   1  All\n",
       "difLanguage             \n",
       "0            22  63   85\n",
       "1             8  16   24\n",
       "All          30  79  109"
      ]
     },
     "execution_count": 39,
     "metadata": {},
     "output_type": "execute_result"
    }
   ],
   "source": [
    "pd.crosstab(df_Quarrels['difLanguage'], df_Quarrels['sameGov'], margins=True)"
   ]
  },
  {
   "cell_type": "code",
   "execution_count": 40,
   "metadata": {
    "collapsed": false
   },
   "outputs": [
    {
     "data": {
      "text/html": [
       "<div>\n",
       "<table border=\"1\" class=\"dataframe\">\n",
       "  <thead>\n",
       "    <tr style=\"text-align: right;\">\n",
       "      <th>sameGov</th>\n",
       "      <th>0</th>\n",
       "      <th>1</th>\n",
       "    </tr>\n",
       "    <tr>\n",
       "      <th>difLanguage</th>\n",
       "      <th></th>\n",
       "      <th></th>\n",
       "    </tr>\n",
       "  </thead>\n",
       "  <tbody>\n",
       "    <tr>\n",
       "      <th>0</th>\n",
       "      <td>0.201835</td>\n",
       "      <td>0.577982</td>\n",
       "    </tr>\n",
       "    <tr>\n",
       "      <th>1</th>\n",
       "      <td>0.073394</td>\n",
       "      <td>0.146789</td>\n",
       "    </tr>\n",
       "  </tbody>\n",
       "</table>\n",
       "</div>"
      ],
      "text/plain": [
       "sameGov             0         1\n",
       "difLanguage                    \n",
       "0            0.201835  0.577982\n",
       "1            0.073394  0.146789"
      ]
     },
     "execution_count": 40,
     "metadata": {},
     "output_type": "execute_result"
    }
   ],
   "source": [
    "pd.crosstab(df_Quarrels['difLanguage'], df_Quarrels['sameGov']).apply(lambda r: r/len(df_Quarrels))"
   ]
  },
  {
   "cell_type": "code",
   "execution_count": 41,
   "metadata": {
    "collapsed": false
   },
   "outputs": [
    {
     "data": {
      "text/plain": [
       "<matplotlib.axes._subplots.AxesSubplot at 0x1ae3fe20b38>"
      ]
     },
     "execution_count": 41,
     "metadata": {},
     "output_type": "execute_result"
    },
    {
     "data": {
      "image/png": "[encoded data removed]",
      "text/plain": [
       "<matplotlib.figure.Figure at 0x1ae3fdad7f0>"
      ]
     },
     "metadata": {},
     "output_type": "display_data"
    }
   ],
   "source": [
    "(pd.crosstab(df_Quarrels['difLanguage'], df_Quarrels['sameGov']).apply(lambda r: r/len(df_Quarrels))).plot.bar(title='Differences in Language and Sharing Same Government (Percent)', grid=True)"
   ]
  },
  {
   "cell_type": "markdown",
   "metadata": {},
   "source": [
    "## Intermingled Territory vs having the Same Government"
   ]
  },
  {
   "cell_type": "code",
   "execution_count": 42,
   "metadata": {
    "collapsed": false
   },
   "outputs": [
    {
     "data": {
      "text/html": [
       "<div>\n",
       "<table border=\"1\" class=\"dataframe\">\n",
       "  <thead>\n",
       "    <tr style=\"text-align: right;\">\n",
       "      <th>sameGov</th>\n",
       "      <th>0</th>\n",
       "      <th>1</th>\n",
       "      <th>All</th>\n",
       "    </tr>\n",
       "    <tr>\n",
       "      <th>intermingled</th>\n",
       "      <th></th>\n",
       "      <th></th>\n",
       "      <th></th>\n",
       "    </tr>\n",
       "  </thead>\n",
       "  <tbody>\n",
       "    <tr>\n",
       "      <th>0</th>\n",
       "      <td>28</td>\n",
       "      <td>62</td>\n",
       "      <td>90</td>\n",
       "    </tr>\n",
       "    <tr>\n",
       "      <th>1</th>\n",
       "      <td>2</td>\n",
       "      <td>17</td>\n",
       "      <td>19</td>\n",
       "    </tr>\n",
       "    <tr>\n",
       "      <th>All</th>\n",
       "      <td>30</td>\n",
       "      <td>79</td>\n",
       "      <td>109</td>\n",
       "    </tr>\n",
       "  </tbody>\n",
       "</table>\n",
       "</div>"
      ],
      "text/plain": [
       "sameGov        0   1  All\n",
       "intermingled             \n",
       "0             28  62   90\n",
       "1              2  17   19\n",
       "All           30  79  109"
      ]
     },
     "execution_count": 42,
     "metadata": {},
     "output_type": "execute_result"
    }
   ],
   "source": [
    "pd.crosstab(df_Quarrels['intermingled'], df_Quarrels['sameGov'], margins=True)"
   ]
  },
  {
   "cell_type": "code",
   "execution_count": 43,
   "metadata": {
    "collapsed": false
   },
   "outputs": [
    {
     "data": {
      "text/html": [
       "<div>\n",
       "<table border=\"1\" class=\"dataframe\">\n",
       "  <thead>\n",
       "    <tr style=\"text-align: right;\">\n",
       "      <th>sameGov</th>\n",
       "      <th>0</th>\n",
       "      <th>1</th>\n",
       "    </tr>\n",
       "    <tr>\n",
       "      <th>intermingled</th>\n",
       "      <th></th>\n",
       "      <th></th>\n",
       "    </tr>\n",
       "  </thead>\n",
       "  <tbody>\n",
       "    <tr>\n",
       "      <th>0</th>\n",
       "      <td>0.256881</td>\n",
       "      <td>0.568807</td>\n",
       "    </tr>\n",
       "    <tr>\n",
       "      <th>1</th>\n",
       "      <td>0.018349</td>\n",
       "      <td>0.155963</td>\n",
       "    </tr>\n",
       "  </tbody>\n",
       "</table>\n",
       "</div>"
      ],
      "text/plain": [
       "sameGov              0         1\n",
       "intermingled                    \n",
       "0             0.256881  0.568807\n",
       "1             0.018349  0.155963"
      ]
     },
     "execution_count": 43,
     "metadata": {},
     "output_type": "execute_result"
    }
   ],
   "source": [
    "pd.crosstab(df_Quarrels['intermingled'], df_Quarrels['sameGov']).apply(lambda r: r/len(df_Quarrels))"
   ]
  },
  {
   "cell_type": "code",
   "execution_count": 44,
   "metadata": {
    "collapsed": false
   },
   "outputs": [
    {
     "data": {
      "text/plain": [
       "<matplotlib.axes._subplots.AxesSubplot at 0x1ae3fe24ba8>"
      ]
     },
     "execution_count": 44,
     "metadata": {},
     "output_type": "execute_result"
    },
    {
     "data": {
      "image/png": "[encoded data removed]",
      "text/plain": [
       "<matplotlib.figure.Figure at 0x1ae3fea46a0>"
      ]
     },
     "metadata": {},
     "output_type": "display_data"
    }
   ],
   "source": [
    "(pd.crosstab(df_Quarrels['intermingled'], df_Quarrels['sameGov']).apply(lambda r: r/len(df_Quarrels))).plot.bar(title='Intermingled Territory and Sharing Same Government (Percent)', grid=True)"
   ]
  },
  {
   "cell_type": "markdown",
   "metadata": {},
   "source": [
    "# Now let's take a look at three variables at the same time to see if we can get any extra information"
   ]
  },
  {
   "cell_type": "markdown",
   "metadata": {},
   "source": [
    "## How common are previous conflicts when compared with both language differences and wealth differences? "
   ]
  },
  {
   "cell_type": "code",
   "execution_count": 45,
   "metadata": {
    "collapsed": false
   },
   "outputs": [
    {
     "data": {
      "text/html": [
       "<div>\n",
       "<table border=\"1\" class=\"dataframe\">\n",
       "  <thead>\n",
       "    <tr>\n",
       "      <th>intermingled</th>\n",
       "      <th colspan=\"2\" halign=\"left\">0</th>\n",
       "      <th colspan=\"2\" halign=\"left\">1</th>\n",
       "      <th>All</th>\n",
       "    </tr>\n",
       "    <tr>\n",
       "      <th>difLanguage</th>\n",
       "      <th>0</th>\n",
       "      <th>1</th>\n",
       "      <th>0</th>\n",
       "      <th>1</th>\n",
       "      <th></th>\n",
       "    </tr>\n",
       "    <tr>\n",
       "      <th>prevConflict</th>\n",
       "      <th></th>\n",
       "      <th></th>\n",
       "      <th></th>\n",
       "      <th></th>\n",
       "      <th></th>\n",
       "    </tr>\n",
       "  </thead>\n",
       "  <tbody>\n",
       "    <tr>\n",
       "      <th>0</th>\n",
       "      <td>54</td>\n",
       "      <td>9</td>\n",
       "      <td>11</td>\n",
       "      <td>0</td>\n",
       "      <td>74</td>\n",
       "    </tr>\n",
       "    <tr>\n",
       "      <th>1</th>\n",
       "      <td>13</td>\n",
       "      <td>14</td>\n",
       "      <td>7</td>\n",
       "      <td>1</td>\n",
       "      <td>35</td>\n",
       "    </tr>\n",
       "    <tr>\n",
       "      <th>All</th>\n",
       "      <td>67</td>\n",
       "      <td>23</td>\n",
       "      <td>18</td>\n",
       "      <td>1</td>\n",
       "      <td>109</td>\n",
       "    </tr>\n",
       "  </tbody>\n",
       "</table>\n",
       "</div>"
      ],
      "text/plain": [
       "intermingled   0       1     All\n",
       "difLanguage    0   1   0  1     \n",
       "prevConflict                    \n",
       "0             54   9  11  0   74\n",
       "1             13  14   7  1   35\n",
       "All           67  23  18  1  109"
      ]
     },
     "execution_count": 45,
     "metadata": {},
     "output_type": "execute_result"
    }
   ],
   "source": [
    "pd.crosstab(df_Quarrels['prevConflict'], columns=[df_Quarrels['intermingled'], df_Quarrels['difLanguage']], margins=True)"
   ]
  },
  {
   "cell_type": "code",
   "execution_count": 46,
   "metadata": {
    "collapsed": false
   },
   "outputs": [
    {
     "data": {
      "text/html": [
       "<div>\n",
       "<table border=\"1\" class=\"dataframe\">\n",
       "  <thead>\n",
       "    <tr>\n",
       "      <th>intermingled</th>\n",
       "      <th colspan=\"2\" halign=\"left\">0</th>\n",
       "      <th colspan=\"2\" halign=\"left\">1</th>\n",
       "    </tr>\n",
       "    <tr>\n",
       "      <th>difLanguage</th>\n",
       "      <th>0</th>\n",
       "      <th>1</th>\n",
       "      <th>0</th>\n",
       "      <th>1</th>\n",
       "    </tr>\n",
       "    <tr>\n",
       "      <th>prevConflict</th>\n",
       "      <th></th>\n",
       "      <th></th>\n",
       "      <th></th>\n",
       "      <th></th>\n",
       "    </tr>\n",
       "  </thead>\n",
       "  <tbody>\n",
       "    <tr>\n",
       "      <th>0</th>\n",
       "      <td>0.495413</td>\n",
       "      <td>0.082569</td>\n",
       "      <td>0.100917</td>\n",
       "      <td>0.000000</td>\n",
       "    </tr>\n",
       "    <tr>\n",
       "      <th>1</th>\n",
       "      <td>0.119266</td>\n",
       "      <td>0.128440</td>\n",
       "      <td>0.064220</td>\n",
       "      <td>0.009174</td>\n",
       "    </tr>\n",
       "  </tbody>\n",
       "</table>\n",
       "</div>"
      ],
      "text/plain": [
       "intermingled         0                   1          \n",
       "difLanguage          0         1         0         1\n",
       "prevConflict                                        \n",
       "0             0.495413  0.082569  0.100917  0.000000\n",
       "1             0.119266  0.128440  0.064220  0.009174"
      ]
     },
     "execution_count": 46,
     "metadata": {},
     "output_type": "execute_result"
    }
   ],
   "source": [
    "pd.crosstab(df_Quarrels['prevConflict'], columns=[df_Quarrels['intermingled'], df_Quarrels['difLanguage']]).apply(lambda r: r/len(df_Quarrels))"
   ]
  },
  {
   "cell_type": "code",
   "execution_count": 47,
   "metadata": {
    "collapsed": false
   },
   "outputs": [
    {
     "data": {
      "text/plain": [
       "<matplotlib.axes._subplots.AxesSubplot at 0x1ae3ff21d30>"
      ]
     },
     "execution_count": 47,
     "metadata": {},
     "output_type": "execute_result"
    },
    {
     "data": {
      "image/png": "[encoded data removed]",
      "text/plain": [
       "<matplotlib.figure.Figure at 0x1ae3ff69860>"
      ]
     },
     "metadata": {},
     "output_type": "display_data"
    }
   ],
   "source": [
    "(pd.crosstab(df_Quarrels['prevConflict'], columns=[df_Quarrels['intermingled'], df_Quarrels['difLanguage']]).apply(lambda r: r/len(df_Quarrels))).plot.bar(title='Differences in Previous Conflicts, Intermingled Territory, and Language (Percent)', grid=True)"
   ]
  },
  {
   "cell_type": "markdown",
   "metadata": {},
   "source": [
    "## How common are previous conflicts when compared with both language differences and wealth differences?"
   ]
  },
  {
   "cell_type": "code",
   "execution_count": 48,
   "metadata": {
    "collapsed": false
   },
   "outputs": [
    {
     "data": {
      "text/html": [
       "<div>\n",
       "<table border=\"1\" class=\"dataframe\">\n",
       "  <thead>\n",
       "    <tr>\n",
       "      <th>difWealth</th>\n",
       "      <th colspan=\"2\" halign=\"left\">0</th>\n",
       "      <th colspan=\"2\" halign=\"left\">1</th>\n",
       "      <th>All</th>\n",
       "    </tr>\n",
       "    <tr>\n",
       "      <th>difLanguage</th>\n",
       "      <th>0</th>\n",
       "      <th>1</th>\n",
       "      <th>0</th>\n",
       "      <th>1</th>\n",
       "      <th></th>\n",
       "    </tr>\n",
       "    <tr>\n",
       "      <th>prevConflict</th>\n",
       "      <th></th>\n",
       "      <th></th>\n",
       "      <th></th>\n",
       "      <th></th>\n",
       "      <th></th>\n",
       "    </tr>\n",
       "  </thead>\n",
       "  <tbody>\n",
       "    <tr>\n",
       "      <th>0</th>\n",
       "      <td>56</td>\n",
       "      <td>9</td>\n",
       "      <td>9</td>\n",
       "      <td>0</td>\n",
       "      <td>74</td>\n",
       "    </tr>\n",
       "    <tr>\n",
       "      <th>1</th>\n",
       "      <td>16</td>\n",
       "      <td>14</td>\n",
       "      <td>4</td>\n",
       "      <td>1</td>\n",
       "      <td>35</td>\n",
       "    </tr>\n",
       "    <tr>\n",
       "      <th>All</th>\n",
       "      <td>72</td>\n",
       "      <td>23</td>\n",
       "      <td>13</td>\n",
       "      <td>1</td>\n",
       "      <td>109</td>\n",
       "    </tr>\n",
       "  </tbody>\n",
       "</table>\n",
       "</div>"
      ],
      "text/plain": [
       "difWealth      0       1     All\n",
       "difLanguage    0   1   0  1     \n",
       "prevConflict                    \n",
       "0             56   9   9  0   74\n",
       "1             16  14   4  1   35\n",
       "All           72  23  13  1  109"
      ]
     },
     "execution_count": 48,
     "metadata": {},
     "output_type": "execute_result"
    }
   ],
   "source": [
    "pd.crosstab(df_Quarrels['prevConflict'], columns=[df_Quarrels['difWealth'], df_Quarrels['difLanguage']], margins=True)"
   ]
  },
  {
   "cell_type": "code",
   "execution_count": 49,
   "metadata": {
    "collapsed": false
   },
   "outputs": [
    {
     "data": {
      "text/html": [
       "<div>\n",
       "<table border=\"1\" class=\"dataframe\">\n",
       "  <thead>\n",
       "    <tr>\n",
       "      <th>difWealth</th>\n",
       "      <th colspan=\"2\" halign=\"left\">0</th>\n",
       "      <th colspan=\"2\" halign=\"left\">1</th>\n",
       "    </tr>\n",
       "    <tr>\n",
       "      <th>difLanguage</th>\n",
       "      <th>0</th>\n",
       "      <th>1</th>\n",
       "      <th>0</th>\n",
       "      <th>1</th>\n",
       "    </tr>\n",
       "    <tr>\n",
       "      <th>prevConflict</th>\n",
       "      <th></th>\n",
       "      <th></th>\n",
       "      <th></th>\n",
       "      <th></th>\n",
       "    </tr>\n",
       "  </thead>\n",
       "  <tbody>\n",
       "    <tr>\n",
       "      <th>0</th>\n",
       "      <td>0.513761</td>\n",
       "      <td>0.082569</td>\n",
       "      <td>0.082569</td>\n",
       "      <td>0.000000</td>\n",
       "    </tr>\n",
       "    <tr>\n",
       "      <th>1</th>\n",
       "      <td>0.146789</td>\n",
       "      <td>0.128440</td>\n",
       "      <td>0.036697</td>\n",
       "      <td>0.009174</td>\n",
       "    </tr>\n",
       "  </tbody>\n",
       "</table>\n",
       "</div>"
      ],
      "text/plain": [
       "difWealth            0                   1          \n",
       "difLanguage          0         1         0         1\n",
       "prevConflict                                        \n",
       "0             0.513761  0.082569  0.082569  0.000000\n",
       "1             0.146789  0.128440  0.036697  0.009174"
      ]
     },
     "execution_count": 49,
     "metadata": {},
     "output_type": "execute_result"
    }
   ],
   "source": [
    "pd.crosstab(df_Quarrels['prevConflict'], columns=[df_Quarrels['difWealth'], df_Quarrels['difLanguage']]).apply(lambda r: r/len(df_Quarrels))"
   ]
  },
  {
   "cell_type": "code",
   "execution_count": 50,
   "metadata": {
    "collapsed": false
   },
   "outputs": [
    {
     "data": {
      "text/plain": [
       "<matplotlib.axes._subplots.AxesSubplot at 0x1ae3fffdf28>"
      ]
     },
     "execution_count": 50,
     "metadata": {},
     "output_type": "execute_result"
    },
    {
     "data": {
      "image/png": "[encoded data removed]",
      "text/plain": [
       "<matplotlib.figure.Figure at 0x1ae3ffdf668>"
      ]
     },
     "metadata": {},
     "output_type": "display_data"
    }
   ],
   "source": [
    "(pd.crosstab(df_Quarrels['prevConflict'], columns=[df_Quarrels['difWealth'], df_Quarrels['difLanguage']]).apply(lambda r: r/len(df_Quarrels))).plot.bar(title='Differences in Previous Conflicts, Language, and Wealth  (Percent)', grid=True)"
   ]
  },
  {
   "cell_type": "markdown",
   "metadata": {},
   "source": [
    "## How common is the same government when there are both language differences and wealth differences?"
   ]
  },
  {
   "cell_type": "code",
   "execution_count": 51,
   "metadata": {
    "collapsed": false
   },
   "outputs": [
    {
     "data": {
      "text/html": [
       "<div>\n",
       "<table border=\"1\" class=\"dataframe\">\n",
       "  <thead>\n",
       "    <tr>\n",
       "      <th>difWealth</th>\n",
       "      <th colspan=\"2\" halign=\"left\">0</th>\n",
       "      <th colspan=\"2\" halign=\"left\">1</th>\n",
       "      <th>All</th>\n",
       "    </tr>\n",
       "    <tr>\n",
       "      <th>difLanguage</th>\n",
       "      <th>0</th>\n",
       "      <th>1</th>\n",
       "      <th>0</th>\n",
       "      <th>1</th>\n",
       "      <th></th>\n",
       "    </tr>\n",
       "    <tr>\n",
       "      <th>sameGov</th>\n",
       "      <th></th>\n",
       "      <th></th>\n",
       "      <th></th>\n",
       "      <th></th>\n",
       "      <th></th>\n",
       "    </tr>\n",
       "  </thead>\n",
       "  <tbody>\n",
       "    <tr>\n",
       "      <th>0</th>\n",
       "      <td>19</td>\n",
       "      <td>8</td>\n",
       "      <td>3</td>\n",
       "      <td>0</td>\n",
       "      <td>30</td>\n",
       "    </tr>\n",
       "    <tr>\n",
       "      <th>1</th>\n",
       "      <td>53</td>\n",
       "      <td>15</td>\n",
       "      <td>10</td>\n",
       "      <td>1</td>\n",
       "      <td>79</td>\n",
       "    </tr>\n",
       "    <tr>\n",
       "      <th>All</th>\n",
       "      <td>72</td>\n",
       "      <td>23</td>\n",
       "      <td>13</td>\n",
       "      <td>1</td>\n",
       "      <td>109</td>\n",
       "    </tr>\n",
       "  </tbody>\n",
       "</table>\n",
       "</div>"
      ],
      "text/plain": [
       "difWealth     0       1     All\n",
       "difLanguage   0   1   0  1     \n",
       "sameGov                        \n",
       "0            19   8   3  0   30\n",
       "1            53  15  10  1   79\n",
       "All          72  23  13  1  109"
      ]
     },
     "execution_count": 51,
     "metadata": {},
     "output_type": "execute_result"
    }
   ],
   "source": [
    "pd.crosstab(df_Quarrels['sameGov'], columns=[df_Quarrels['difWealth'], df_Quarrels['difLanguage']], margins=True)"
   ]
  },
  {
   "cell_type": "code",
   "execution_count": 52,
   "metadata": {
    "collapsed": false
   },
   "outputs": [
    {
     "data": {
      "text/html": [
       "<div>\n",
       "<table border=\"1\" class=\"dataframe\">\n",
       "  <thead>\n",
       "    <tr>\n",
       "      <th>difWealth</th>\n",
       "      <th colspan=\"2\" halign=\"left\">0</th>\n",
       "      <th colspan=\"2\" halign=\"left\">1</th>\n",
       "    </tr>\n",
       "    <tr>\n",
       "      <th>difLanguage</th>\n",
       "      <th>0</th>\n",
       "      <th>1</th>\n",
       "      <th>0</th>\n",
       "      <th>1</th>\n",
       "    </tr>\n",
       "    <tr>\n",
       "      <th>sameGov</th>\n",
       "      <th></th>\n",
       "      <th></th>\n",
       "      <th></th>\n",
       "      <th></th>\n",
       "    </tr>\n",
       "  </thead>\n",
       "  <tbody>\n",
       "    <tr>\n",
       "      <th>0</th>\n",
       "      <td>0.174312</td>\n",
       "      <td>0.073394</td>\n",
       "      <td>0.027523</td>\n",
       "      <td>0.000000</td>\n",
       "    </tr>\n",
       "    <tr>\n",
       "      <th>1</th>\n",
       "      <td>0.486239</td>\n",
       "      <td>0.137615</td>\n",
       "      <td>0.091743</td>\n",
       "      <td>0.009174</td>\n",
       "    </tr>\n",
       "  </tbody>\n",
       "</table>\n",
       "</div>"
      ],
      "text/plain": [
       "difWealth           0                   1          \n",
       "difLanguage         0         1         0         1\n",
       "sameGov                                            \n",
       "0            0.174312  0.073394  0.027523  0.000000\n",
       "1            0.486239  0.137615  0.091743  0.009174"
      ]
     },
     "execution_count": 52,
     "metadata": {},
     "output_type": "execute_result"
    }
   ],
   "source": [
    "pd.crosstab(df_Quarrels['sameGov'], columns=[df_Quarrels['difWealth'], df_Quarrels['difLanguage']]).apply(lambda r: r/len(df_Quarrels))"
   ]
  },
  {
   "cell_type": "code",
   "execution_count": 53,
   "metadata": {
    "collapsed": false
   },
   "outputs": [
    {
     "data": {
      "text/plain": [
       "<matplotlib.axes._subplots.AxesSubplot at 0x1ae40092978>"
      ]
     },
     "execution_count": 53,
     "metadata": {},
     "output_type": "execute_result"
    },
    {
     "data": {
      "image/png": "[encoded data removed]",
      "text/plain": [
       "<matplotlib.figure.Figure at 0x1ae400a6358>"
      ]
     },
     "metadata": {},
     "output_type": "display_data"
    }
   ],
   "source": [
    "(pd.crosstab(df_Quarrels['sameGov'], columns=[df_Quarrels['difWealth'], df_Quarrels['difLanguage']]).apply(lambda r: r/len(df_Quarrels))).plot.bar(title='Sharing Same Government Despite Differences in Wealth and Language (Percent)', grid=True)"
   ]
  },
  {
   "cell_type": "markdown",
   "metadata": {},
   "source": [
    "## How common is the same government when there is a language differences in intermingled territory?"
   ]
  },
  {
   "cell_type": "code",
   "execution_count": 54,
   "metadata": {
    "collapsed": false
   },
   "outputs": [
    {
     "data": {
      "text/html": [
       "<div>\n",
       "<table border=\"1\" class=\"dataframe\">\n",
       "  <thead>\n",
       "    <tr>\n",
       "      <th>intermingled</th>\n",
       "      <th colspan=\"2\" halign=\"left\">0</th>\n",
       "      <th colspan=\"2\" halign=\"left\">1</th>\n",
       "      <th>All</th>\n",
       "    </tr>\n",
       "    <tr>\n",
       "      <th>difLanguage</th>\n",
       "      <th>0</th>\n",
       "      <th>1</th>\n",
       "      <th>0</th>\n",
       "      <th>1</th>\n",
       "      <th></th>\n",
       "    </tr>\n",
       "    <tr>\n",
       "      <th>sameGov</th>\n",
       "      <th></th>\n",
       "      <th></th>\n",
       "      <th></th>\n",
       "      <th></th>\n",
       "      <th></th>\n",
       "    </tr>\n",
       "  </thead>\n",
       "  <tbody>\n",
       "    <tr>\n",
       "      <th>0</th>\n",
       "      <td>20</td>\n",
       "      <td>8</td>\n",
       "      <td>2</td>\n",
       "      <td>0</td>\n",
       "      <td>30</td>\n",
       "    </tr>\n",
       "    <tr>\n",
       "      <th>1</th>\n",
       "      <td>47</td>\n",
       "      <td>15</td>\n",
       "      <td>16</td>\n",
       "      <td>1</td>\n",
       "      <td>79</td>\n",
       "    </tr>\n",
       "    <tr>\n",
       "      <th>All</th>\n",
       "      <td>67</td>\n",
       "      <td>23</td>\n",
       "      <td>18</td>\n",
       "      <td>1</td>\n",
       "      <td>109</td>\n",
       "    </tr>\n",
       "  </tbody>\n",
       "</table>\n",
       "</div>"
      ],
      "text/plain": [
       "intermingled   0       1     All\n",
       "difLanguage    0   1   0  1     \n",
       "sameGov                         \n",
       "0             20   8   2  0   30\n",
       "1             47  15  16  1   79\n",
       "All           67  23  18  1  109"
      ]
     },
     "execution_count": 54,
     "metadata": {},
     "output_type": "execute_result"
    }
   ],
   "source": [
    "pd.crosstab(df_Quarrels['sameGov'], columns=[df_Quarrels['intermingled'], df_Quarrels['difLanguage']], margins=True)"
   ]
  },
  {
   "cell_type": "code",
   "execution_count": 55,
   "metadata": {
    "collapsed": false
   },
   "outputs": [
    {
     "data": {
      "text/html": [
       "<div>\n",
       "<table border=\"1\" class=\"dataframe\">\n",
       "  <thead>\n",
       "    <tr>\n",
       "      <th>intermingled</th>\n",
       "      <th colspan=\"2\" halign=\"left\">0</th>\n",
       "      <th colspan=\"2\" halign=\"left\">1</th>\n",
       "    </tr>\n",
       "    <tr>\n",
       "      <th>difLanguage</th>\n",
       "      <th>0</th>\n",
       "      <th>1</th>\n",
       "      <th>0</th>\n",
       "      <th>1</th>\n",
       "    </tr>\n",
       "    <tr>\n",
       "      <th>sameGov</th>\n",
       "      <th></th>\n",
       "      <th></th>\n",
       "      <th></th>\n",
       "      <th></th>\n",
       "    </tr>\n",
       "  </thead>\n",
       "  <tbody>\n",
       "    <tr>\n",
       "      <th>0</th>\n",
       "      <td>0.183486</td>\n",
       "      <td>0.073394</td>\n",
       "      <td>0.018349</td>\n",
       "      <td>0.000000</td>\n",
       "    </tr>\n",
       "    <tr>\n",
       "      <th>1</th>\n",
       "      <td>0.431193</td>\n",
       "      <td>0.137615</td>\n",
       "      <td>0.146789</td>\n",
       "      <td>0.009174</td>\n",
       "    </tr>\n",
       "  </tbody>\n",
       "</table>\n",
       "</div>"
      ],
      "text/plain": [
       "intermingled         0                   1          \n",
       "difLanguage          0         1         0         1\n",
       "sameGov                                             \n",
       "0             0.183486  0.073394  0.018349  0.000000\n",
       "1             0.431193  0.137615  0.146789  0.009174"
      ]
     },
     "execution_count": 55,
     "metadata": {},
     "output_type": "execute_result"
    }
   ],
   "source": [
    "pd.crosstab(df_Quarrels['sameGov'], columns=[df_Quarrels['intermingled'], df_Quarrels['difLanguage']]).apply(lambda r: r/len(df_Quarrels))"
   ]
  },
  {
   "cell_type": "code",
   "execution_count": 56,
   "metadata": {
    "collapsed": false
   },
   "outputs": [
    {
     "data": {
      "text/plain": [
       "<matplotlib.axes._subplots.AxesSubplot at 0x1ae40113ef0>"
      ]
     },
     "execution_count": 56,
     "metadata": {},
     "output_type": "execute_result"
    },
    {
     "data": {
      "image/png": "[encoded data removed]",
      "text/plain": [
       "<matplotlib.figure.Figure at 0x1ae40140748>"
      ]
     },
     "metadata": {},
     "output_type": "display_data"
    }
   ],
   "source": [
    "(pd.crosstab(df_Quarrels['sameGov'], columns=[df_Quarrels['intermingled'], df_Quarrels['difLanguage']]).apply(lambda r: r/len(df_Quarrels))).plot.bar(title='Sharing Same Government Despite Differences in Wealth and Language (Percent)', grid=True)"
   ]
  },
  {
   "cell_type": "markdown",
   "metadata": {},
   "source": [
    "# Let's take a couple different looks at the number of deaths, lengths of some of these quarrels, number of years in the same government, and years since previous conflict"
   ]
  },
  {
   "cell_type": "markdown",
   "metadata": {},
   "source": [
    "## Months fighting"
   ]
  },
  {
   "cell_type": "code",
   "execution_count": 57,
   "metadata": {
    "collapsed": false
   },
   "outputs": [
    {
     "data": {
      "text/plain": [
       "array([[<matplotlib.axes._subplots.AxesSubplot object at 0x000001AE400AE390>]], dtype=object)"
      ]
     },
     "execution_count": 57,
     "metadata": {},
     "output_type": "execute_result"
    },
    {
     "data": {
      "image/png": "[encoded data removed]",
      "text/plain": [
       "<matplotlib.figure.Figure at 0x1ae3fe2d278>"
      ]
     },
     "metadata": {},
     "output_type": "display_data"
    }
   ],
   "source": [
    "df_Quarrels.hist(column='months', color='blue')"
   ]
  },
  {
   "cell_type": "code",
   "execution_count": 58,
   "metadata": {
    "collapsed": false
   },
   "outputs": [
    {
     "data": {
      "text/plain": [
       "<matplotlib.axes._subplots.AxesSubplot at 0x1ae401d3f28>"
      ]
     },
     "execution_count": 58,
     "metadata": {},
     "output_type": "execute_result"
    },
    {
     "data": {
      "image/png": "[encoded data removed]",
      "text/plain": [
       "<matplotlib.figure.Figure at 0x1ae401df860>"
      ]
     },
     "metadata": {},
     "output_type": "display_data"
    }
   ],
   "source": [
    "df_Quarrels['months'].plot(kind='density', xlim=(0,200))"
   ]
  },
  {
   "cell_type": "markdown",
   "metadata": {},
   "source": [
    "## Number of years in the Same Government"
   ]
  },
  {
   "cell_type": "code",
   "execution_count": 59,
   "metadata": {
    "collapsed": false
   },
   "outputs": [
    {
     "data": {
      "text/plain": [
       "array([[<matplotlib.axes._subplots.AxesSubplot object at 0x000001AE40247A90>]], dtype=object)"
      ]
     },
     "execution_count": 59,
     "metadata": {},
     "output_type": "execute_result"
    },
    {
     "data": {
      "image/png": "[encoded data removed]",
      "text/plain": [
       "<matplotlib.figure.Figure at 0x1ae400f3550>"
      ]
     },
     "metadata": {},
     "output_type": "display_data"
    }
   ],
   "source": [
    "df_Quarrels.hist(column='sameGovYrs', color='green')"
   ]
  },
  {
   "cell_type": "code",
   "execution_count": 60,
   "metadata": {
    "collapsed": false
   },
   "outputs": [
    {
     "data": {
      "text/plain": [
       "<matplotlib.axes._subplots.AxesSubplot at 0x1ae419bddd8>"
      ]
     },
     "execution_count": 60,
     "metadata": {},
     "output_type": "execute_result"
    },
    {
     "data": {
      "image/png": "[encoded data removed]",
      "text/plain": [
       "<matplotlib.figure.Figure at 0x1ae419c8b00>"
      ]
     },
     "metadata": {},
     "output_type": "display_data"
    }
   ],
   "source": [
    "df_Quarrels['sameGovYrs'].plot(kind='density', xlim=(0,300))"
   ]
  },
  {
   "cell_type": "markdown",
   "metadata": {},
   "source": [
    "### Create logMonths and logGovYrs, to deal with long tails"
   ]
  },
  {
   "cell_type": "code",
   "execution_count": 61,
   "metadata": {
    "collapsed": false
   },
   "outputs": [],
   "source": [
    "df_Quarrels['logMonths'] = np.log10(df_Quarrels['months'])\n",
    "df_Quarrels['logGovYrs'] = np.log10(df_Quarrels['sameGovYrs'])"
   ]
  },
  {
   "cell_type": "markdown",
   "metadata": {},
   "source": [
    "## Compare length of Civil Wars (in months) against the number of deaths, both in regular and in log form"
   ]
  },
  {
   "cell_type": "code",
   "execution_count": 62,
   "metadata": {
    "collapsed": false
   },
   "outputs": [
    {
     "data": {
      "text/plain": [
       "<matplotlib.axes._subplots.AxesSubplot at 0x1ae3ffeb978>"
      ]
     },
     "execution_count": 62,
     "metadata": {},
     "output_type": "execute_result"
    },
    {
     "data": {
      "image/png": "[encoded data removed]",
      "text/plain": [
       "<matplotlib.figure.Figure at 0x1ae3ff0ab70>"
      ]
     },
     "metadata": {},
     "output_type": "display_data"
    }
   ],
   "source": [
    "df_Quarrels.plot(x='months', y='deaths', kind='scatter')"
   ]
  },
  {
   "cell_type": "code",
   "execution_count": 63,
   "metadata": {
    "collapsed": false
   },
   "outputs": [
    {
     "data": {
      "text/plain": [
       "<matplotlib.axes._subplots.AxesSubplot at 0x1ae41aadbe0>"
      ]
     },
     "execution_count": 63,
     "metadata": {},
     "output_type": "execute_result"
    },
    {
     "data": {
      "image/png": "[encoded data removed]",
      "text/plain": [
       "<matplotlib.figure.Figure at 0x1ae41af0550>"
      ]
     },
     "metadata": {},
     "output_type": "display_data"
    }
   ],
   "source": [
    "df_Quarrels.plot(x='months', y='logDeaths', kind='scatter')"
   ]
  },
  {
   "cell_type": "code",
   "execution_count": 64,
   "metadata": {
    "collapsed": false
   },
   "outputs": [
    {
     "data": {
      "text/plain": [
       "<matplotlib.axes._subplots.AxesSubplot at 0x1ae41b15908>"
      ]
     },
     "execution_count": 64,
     "metadata": {},
     "output_type": "execute_result"
    },
    {
     "data": {
      "image/png": "[encoded data removed]",
      "text/plain": [
       "<matplotlib.figure.Figure at 0x1ae41b54470>"
      ]
     },
     "metadata": {},
     "output_type": "display_data"
    }
   ],
   "source": [
    "df_Quarrels.plot(x='logMonths', y='logDeaths', kind='scatter')"
   ]
  },
  {
   "cell_type": "markdown",
   "metadata": {},
   "source": [
    "## Compare length of years in the Same Governement against the number of deaths, both in regular and log form"
   ]
  },
  {
   "cell_type": "code",
   "execution_count": 65,
   "metadata": {
    "collapsed": false
   },
   "outputs": [
    {
     "data": {
      "text/plain": [
       "<matplotlib.axes._subplots.AxesSubplot at 0x1ae41b6eda0>"
      ]
     },
     "execution_count": 65,
     "metadata": {},
     "output_type": "execute_result"
    },
    {
     "data": {
      "image/png": "[encoded data removed]",
      "text/plain": [
       "<matplotlib.figure.Figure at 0x1ae41b89240>"
      ]
     },
     "metadata": {},
     "output_type": "display_data"
    }
   ],
   "source": [
    "df_Quarrels.plot(x='sameGovYrs', y='logDeaths', kind='scatter', xlim=(1, 300))"
   ]
  },
  {
   "cell_type": "code",
   "execution_count": 66,
   "metadata": {
    "collapsed": false
   },
   "outputs": [
    {
     "data": {
      "text/plain": [
       "<matplotlib.axes._subplots.AxesSubplot at 0x1ae41bcd438>"
      ]
     },
     "execution_count": 66,
     "metadata": {},
     "output_type": "execute_result"
    },
    {
     "data": {
      "image/png": "[encoded data removed]",
      "text/plain": [
       "<matplotlib.figure.Figure at 0x1ae41be8710>"
      ]
     },
     "metadata": {},
     "output_type": "display_data"
    }
   ],
   "source": [
    "df_Quarrels.plot(x='logGovYrs', y='logDeaths', kind='scatter')"
   ]
  },
  {
   "cell_type": "markdown",
   "metadata": {},
   "source": [
    "## Relationship between years of government and months of fighting once war occurs"
   ]
  },
  {
   "cell_type": "code",
   "execution_count": 67,
   "metadata": {
    "collapsed": false
   },
   "outputs": [
    {
     "data": {
      "text/plain": [
       "<matplotlib.axes._subplots.AxesSubplot at 0x1ae41c3ab38>"
      ]
     },
     "execution_count": 67,
     "metadata": {},
     "output_type": "execute_result"
    },
    {
     "data": {
      "image/png": "[encoded data removed]",
      "text/plain": [
       "<matplotlib.figure.Figure at 0x1ae41c6c5f8>"
      ]
     },
     "metadata": {},
     "output_type": "display_data"
    }
   ],
   "source": [
    "df_Quarrels.plot(x='sameGovYrs', y='months', kind='scatter', xlim=(1, 300))"
   ]
  },
  {
   "cell_type": "code",
   "execution_count": 68,
   "metadata": {
    "collapsed": false
   },
   "outputs": [
    {
     "data": {
      "text/plain": [
       "<matplotlib.axes._subplots.AxesSubplot at 0x1ae41ca1128>"
      ]
     },
     "execution_count": 68,
     "metadata": {},
     "output_type": "execute_result"
    },
    {
     "data": {
      "image/png": "[encoded data removed]",
      "text/plain": [
       "<matplotlib.figure.Figure at 0x1ae41cdcac8>"
      ]
     },
     "metadata": {},
     "output_type": "display_data"
    }
   ],
   "source": [
    "df_Quarrels.plot(x='logGovYrs', y='logMonths', kind='scatter')"
   ]
  },
  {
   "cell_type": "markdown",
   "metadata": {},
   "source": [
    "## Relationship between years since the last conflict and deaths\n",
    "#### Range starts at 1 to ignore situations where there were no previous conflicts"
   ]
  },
  {
   "cell_type": "code",
   "execution_count": 69,
   "metadata": {
    "collapsed": false
   },
   "outputs": [
    {
     "data": {
      "text/plain": [
       "<matplotlib.axes._subplots.AxesSubplot at 0x1ae41cf1198>"
      ]
     },
     "execution_count": 69,
     "metadata": {},
     "output_type": "execute_result"
    },
    {
     "data": {
      "image/png": "[encoded data removed]",
      "text/plain": [
       "<matplotlib.figure.Figure at 0x1ae41d2edd8>"
      ]
     },
     "metadata": {},
     "output_type": "display_data"
    }
   ],
   "source": [
    "df_Quarrels.plot(x='prevConflictYrs', y='logDeaths', kind='scatter', xlim=(1,65))"
   ]
  },
  {
   "cell_type": "markdown",
   "metadata": {},
   "source": [
    "## Relationship between years since a civil war and years of having the same government\n",
    "As you would imagine this should be almost perfectly correlated, and it is."
   ]
  },
  {
   "cell_type": "code",
   "execution_count": 70,
   "metadata": {
    "collapsed": false
   },
   "outputs": [
    {
     "data": {
      "text/plain": [
       "<matplotlib.axes._subplots.AxesSubplot at 0x1ae41d5e470>"
      ]
     },
     "execution_count": 70,
     "metadata": {},
     "output_type": "execute_result"
    },
    {
     "data": {
      "image/png": "[encoded data removed]",
      "text/plain": [
       "<matplotlib.figure.Figure at 0x1ae41d9f2e8>"
      ]
     },
     "metadata": {},
     "output_type": "display_data"
    }
   ],
   "source": [
    "df_Quarrels.plot(x='prevConflictYrs', y='sameGovYrs', kind='scatter', xlim=(1,65), ylim=(0,80))"
   ]
  }
 ],
 "metadata": {
  "anaconda-cloud": {},
  "celltoolbar": "Raw Cell Format",
  "kernelspec": {
   "display_name": "Python [Root]",
   "language": "python",
   "name": "Python [Root]"
  },
  "language_info": {
   "codemirror_mode": {
    "name": "ipython",
    "version": 3
   },
   "file_extension": ".py",
   "mimetype": "text/x-python",
   "name": "python",
   "nbconvert_exporter": "python",
   "pygments_lexer": "ipython3",
   "version": "3.5.2"
  }
 },
 "nbformat": 4,
 "nbformat_minor": 0
}
